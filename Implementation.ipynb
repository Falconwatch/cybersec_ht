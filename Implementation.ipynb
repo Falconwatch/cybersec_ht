{
  "nbformat": 4,
  "nbformat_minor": 0,
  "metadata": {
    "colab": {
      "provenance": [],
      "authorship_tag": "ABX9TyOJLNozwMboNPmmwcysLj2D",
      "include_colab_link": true
    },
    "kernelspec": {
      "name": "python3",
      "display_name": "Python 3"
    },
    "language_info": {
      "name": "python"
    }
  },
  "cells": [
    {
      "cell_type": "markdown",
      "metadata": {
        "id": "view-in-github",
        "colab_type": "text"
      },
      "source": [
        "<a href=\"https://colab.research.google.com/github/Falconwatch/cybersec_ht/blob/main/Implementation.ipynb\" target=\"_parent\"><img src=\"https://colab.research.google.com/assets/colab-badge.svg\" alt=\"Open In Colab\"/></a>"
      ]
    },
    {
      "cell_type": "code",
      "execution_count": 2,
      "metadata": {
        "id": "dDJR6-4VjPpk"
      },
      "outputs": [],
      "source": [
        "!pip install -q fuzzywuzzy\n",
        "!pip install -q python-Levenshtein\n",
        "\n",
        "import lightgbm as lgbm\n",
        "import joblib\n",
        "import pandas as pd\n",
        "from tqdm import tqdm\n",
        "from fuzzywuzzy import fuzz\n",
        "import rapidfuzz"
      ]
    },
    {
      "cell_type": "code",
      "source": [
        "examples = pd.read_excel(\"examples.xlsx\")\n",
        "cust_1 = pd.read_excel(\"cust_1.xlsx\")\n",
        "cust_2 = pd.read_excel(\"cust_2.xlsx\")"
      ],
      "metadata": {
        "id": "qbeAHAUcyo0T"
      },
      "execution_count": 4,
      "outputs": []
    },
    {
      "cell_type": "code",
      "source": [
        "class HotelComparator():\n",
        "  def __init__(self, path):\n",
        "    \"\"\"\n",
        "    param path: Путь до сохранённой модели\n",
        "    \"\"\"\n",
        "    self.__clf = joblib.load('hotel_clf.pkl')\n",
        "    self.__feature_fields = ['hotel_name', 'city_name', 'hotel_address', 'star_rating', 'postal_code']\n",
        "    self.__th = 0.0002\n",
        "\n",
        "  def similarity_ratio_func(self, df, field):\n",
        "    #print(\"in similarity_ratio_func\")\n",
        "    def string_similarity(s1,s2):\n",
        "      #print(\"In string_similarity\")\n",
        "      return rapidfuzz.fuzz_cpp.WRatio(s1,s2)/100\n",
        "      return fuzz.WRatio(s1, s2)/100\n",
        "\n",
        "    def postalcode_similarity(s1, s2):\n",
        "      longest_string = max([len(s1), len(s2)])\n",
        "      s1 = s1+\"0\"*(longest_string - len(s1))\n",
        "      s2 = s2+\"0\"*(longest_string - len(s2))\n",
        "      t = [a==b for a,b in zip(s1, s2)][::-1]\n",
        "      max_possible_similarity = sum([10**i for i in range(longest_string)])\n",
        "      current_similarity = sum([t[i]*10**i for i in range(len(t))])\n",
        "      difference = max_possible_similarity - current_similarity\n",
        "      difference_ratio = difference/max_possible_similarity\n",
        "      return 1-difference_ratio\n",
        "    \n",
        "    def rating_star_diff(s1, s2):\n",
        "      try:\n",
        "        r = abs(float(s1)- float(s2))\n",
        "        return r\n",
        "      except:\n",
        "        return None\n",
        "\n",
        "    def universal_wrapper(x1, x2, func):\n",
        "      if pd.isna(x1) or pd.isna(x2):\n",
        "        return None\n",
        "      x1=str(x1).upper()\n",
        "      x2=str(x2).upper()\n",
        "      return func(x1,x2)\n",
        "\n",
        "    name1 = \"c1.\" + field\n",
        "    name2 = \"c2.\" + field\n",
        "    name3 = field + \"_similarity\"\n",
        "    \n",
        "    if \"postal_code\" in field:\n",
        "      #print(\"procees postal code\")\n",
        "      df[name3] = df[[name1, name2]].apply(lambda x: universal_wrapper(x[name1], x[name2], postalcode_similarity),\n",
        "                                            axis=1)\n",
        "    elif \"star_rating\" in field:\n",
        "      #print(\"procees star_rating\")\n",
        "      df[name3] = df[[name1, name2]].apply(lambda x: universal_wrapper(x[name1], x[name2], rating_star_diff),\n",
        "                                            axis=1)\n",
        "    else:\n",
        "      #print(\"Process:\", name3)\n",
        "      df[name3] = df[[name1, name2]].apply(lambda x: universal_wrapper(x[name1], x[name2], string_similarity),\n",
        "                                            axis=1)\n",
        "\n",
        "  def generate_features(self, df):\n",
        "    #print(\"in generate_features\")\n",
        "    #print(self.__feature_fields)\n",
        "    for ff in tqdm(self.__feature_fields):\n",
        "      self.similarity_ratio_func(df, ff)\n",
        "\n",
        "  \n",
        "  def compare_hotels_lists(self, hotels_1, hotels_2,\n",
        "                           country_code_name_1 = \"c1.country_code\",\n",
        "                           country_code_name_2 = \"c2.country_code\",):\n",
        "    \"\"\"\n",
        "    param hotels_1: pandas dataframe со списком отелей от поставщика 1\n",
        "    param hotels_2: pandas dataframe со списком отелей от поставщика 2\n",
        "    \"\"\"\n",
        "    hotels_1 = hotels_1.rename({country_code_name_1:\"country_code\"}, axis=1)\n",
        "    hotels_2 = hotels_2.rename({country_code_name_2:\"country_code\"}, axis=1)\n",
        "    countries = hotels_1[\"country_code\"].unique()\n",
        "\n",
        "    country_datas = list()\n",
        "    for country in countries:\n",
        "      h1 = hotels_1[hotels_1[\"country_code\"] == country]\n",
        "      h2 = hotels_2[hotels_2[\"country_code\"] == country]\n",
        "      total = h1.reset_index(drop=True).merge(h2.reset_index(drop=True),\n",
        "                                              on =[\"country_code\"])\n",
        "      country_datas.append(total)\n",
        "\n",
        "    features = [f+\"_similarity\" for f in self.__feature_fields]\n",
        "    full_data = pd.concat(country_datas)\n",
        "    self.generate_features(full_data)\n",
        "    probas = self.__clf.predict_proba(full_data[features])[:,1]\n",
        "    predictions = (probas > self.__th).astype(int)\n",
        "\n",
        "    full_data[\"match\"] = predictions\n",
        "    result = full_data.loc[full_data[\"match\"]==1, [\"c1.key\", \"c2.key\"]]\n",
        "\n",
        "    return result\n"
      ],
      "metadata": {
        "id": "mTzbw7jUp8wQ"
      },
      "execution_count": 39,
      "outputs": []
    },
    {
      "cell_type": "code",
      "source": [
        "hc = HotelComparator(\"hotel_clf.pkl\")"
      ],
      "metadata": {
        "id": "qe0LcQwKvdEI"
      },
      "execution_count": 40,
      "outputs": []
    },
    {
      "cell_type": "code",
      "source": [
        "t = hc.compare_hotels_lists(cust_1.sample(5000), cust_2.sample(5000))"
      ],
      "metadata": {
        "colab": {
          "base_uri": "https://localhost:8080/"
        },
        "id": "c8vsBNuIvnGU",
        "outputId": "9160bec4-b5e8-4add-fb5d-702de9b20b6c"
      },
      "execution_count": 43,
      "outputs": [
        {
          "output_type": "stream",
          "name": "stderr",
          "text": [
            "100%|██████████| 5/5 [02:02<00:00, 24.43s/it]\n"
          ]
        }
      ]
    },
    {
      "cell_type": "code",
      "source": [],
      "metadata": {
        "id": "OlXi4qsNkO9P"
      },
      "execution_count": null,
      "outputs": []
    }
  ]
}