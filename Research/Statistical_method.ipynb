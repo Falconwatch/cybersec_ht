{
  "cells": [
    {
      "cell_type": "markdown",
      "metadata": {
        "id": "view-in-github",
        "colab_type": "text"
      },
      "source": [
        "<a href=\"https://colab.research.google.com/github/Falconwatch/cybersec_ht/blob/main/Statistical_method.ipynb\" target=\"_parent\"><img src=\"https://colab.research.google.com/assets/colab-badge.svg\" alt=\"Open In Colab\"/></a>"
      ]
    },
    {
      "cell_type": "code",
      "source": [
        "!pip install -q Levenshtein\n",
        "!pip install -q fuzzywuzzy\n",
        "!pip install -q python-Levenshtein"
      ],
      "metadata": {
        "id": "-u_tTmfoz1xM"
      },
      "execution_count": 1,
      "outputs": []
    },
    {
      "cell_type": "code",
      "source": [
        "import pandas as pd\n",
        "from tqdm import tqdm\n",
        "import matplotlib.pyplot as plt\n",
        "from fuzzywuzzy import fuzz\n",
        "import gc"
      ],
      "metadata": {
        "id": "W1SRNQIG8Unq"
      },
      "execution_count": 1,
      "outputs": []
    },
    {
      "cell_type": "code",
      "execution_count": 2,
      "metadata": {
        "id": "22ISYx9qNiLP"
      },
      "outputs": [],
      "source": [
        "cust_1 = pd.read_excel(\"cust_1.xlsx\")\n",
        "cust_2 = pd.read_excel(\"cust_2.xlsx\")\n",
        "examples = pd.read_excel(\"examples.xlsx\")"
      ]
    },
    {
      "cell_type": "code",
      "execution_count": 3,
      "metadata": {
        "id": "siHIuLQYRh_T"
      },
      "outputs": [],
      "source": [
        "cust_1 = cust_1.rename({\"c1.country_code\":\"country_code\"}, axis=1)\n",
        "cust_2 = cust_2.rename({\"c2.country_code\":\"country_code\"}, axis=1)"
      ]
    },
    {
      "cell_type": "code",
      "execution_count": 4,
      "metadata": {
        "id": "Ks1mexV7WryK"
      },
      "outputs": [],
      "source": [
        "countries = cust_1[\"country_code\"].unique()"
      ]
    },
    {
      "cell_type": "markdown",
      "metadata": {
        "id": "O5OTMaYNWmDM"
      },
      "source": [
        "# Соберу все возможные комбинации"
      ]
    },
    {
      "cell_type": "markdown",
      "source": [
        "## Неопределённые данные"
      ],
      "metadata": {
        "id": "igD0Ht0dQhHU"
      }
    },
    {
      "cell_type": "code",
      "execution_count": 5,
      "metadata": {
        "id": "tihpsvc5Qhoh",
        "colab": {
          "base_uri": "https://localhost:8080/"
        },
        "outputId": "4e17037b-b977-496a-fe64-80af27b0792f"
      },
      "outputs": [
        {
          "output_type": "execute_result",
          "data": {
            "text/plain": [
              "(5073577, 15)"
            ]
          },
          "metadata": {},
          "execution_count": 5
        }
      ],
      "source": [
        "country_datas = list()\n",
        "for country in countries:\n",
        "  c1 = cust_1[cust_1[\"country_code\"] == country]\n",
        "  c2 = cust_2[cust_2[\"country_code\"] == country]\n",
        "  total = c1.reset_index(drop=True).merge(c2.reset_index(drop=True),\n",
        "                                          on =[\"country_code\"])\n",
        "  country_datas.append(total)\n",
        "all_data = pd.concat(country_datas)\n",
        "all_data[\"match\"] = None\n",
        "all_data[\"dataset\"] = \"data\"\n",
        "all_data.shape"
      ]
    },
    {
      "cell_type": "markdown",
      "source": [
        "## Разметка мэтчей"
      ],
      "metadata": {
        "id": "-fYLFvP6QlHR"
      }
    },
    {
      "cell_type": "code",
      "source": [
        "def renamer(x):\n",
        "  if x[-2:]==\"_x\":\n",
        "    return x[:-2]\n",
        "  if x[-2:]==\"_y\":\n",
        "    return \"c2\"+x[2:-2]\n",
        "  return x\n",
        "\n",
        "def renamer2(x):\n",
        "  if x[-2:]==\"_x\":\n",
        "    return \"c1\"+x[2:-2]\n",
        "  if x[-2:]==\"_y\":\n",
        "    return x[:-2]\n",
        "  return x"
      ],
      "metadata": {
        "id": "_u-fEIl2PJOr"
      },
      "execution_count": 6,
      "outputs": []
    },
    {
      "cell_type": "code",
      "execution_count": 7,
      "metadata": {
        "colab": {
          "base_uri": "https://localhost:8080/"
        },
        "id": "xZ_EkdabNuqh",
        "outputId": "3f892d18-2061-47a8-9273-c29ac5c91e8e"
      },
      "outputs": [
        {
          "output_type": "execute_result",
          "data": {
            "text/plain": [
              "(10147154, 15)"
            ]
          },
          "metadata": {},
          "execution_count": 7
        }
      ],
      "source": [
        "wrong_country_datas = list()\n",
        "for country in countries:\n",
        "  c1 = cust_1[cust_1[\"country_code\"] == country]\n",
        "  c2 = cust_2[cust_2[\"country_code\"] == country]\n",
        "  total1 = c1.reset_index(drop=True).merge(c1.reset_index(drop=True),\n",
        "                                          on =[\"country_code\"])\n",
        "  total1.columns = [renamer(c) for c in total1.columns]\n",
        "  \n",
        "  total2 = c2.reset_index(drop=True).merge(c2.reset_index(drop=True),\n",
        "                                          on =[\"country_code\"])\n",
        "  total2.columns = [renamer2(c) for c in total2.columns]\n",
        "  \n",
        "  total1[\"match\"] = 1\n",
        "  total1.loc[total1[\"c1.key\"]!=total1[\"c2.key\"], \"match\"] = 0\n",
        "  total2[\"match\"] = 1\n",
        "  total2.loc[total2[\"c1.key\"]!=total2[\"c2.key\"], \"match\"] = 0\n",
        "\n",
        "  wrong_country_datas.append(total1)\n",
        "  wrong_country_datas.append(total2)\n",
        "\n",
        "wrong_data = pd.concat(wrong_country_datas,axis=0)\n",
        "wrong_data[\"dataset\"] = \"generated\"\n",
        "wrong_data.shape"
      ]
    },
    {
      "cell_type": "markdown",
      "source": [
        "## Примеры"
      ],
      "metadata": {
        "id": "bjcDC_ItRXbG"
      }
    },
    {
      "cell_type": "code",
      "execution_count": 8,
      "metadata": {
        "id": "c7MbrZuD_McY",
        "colab": {
          "base_uri": "https://localhost:8080/"
        },
        "outputId": "8c4aede0-f339-4b07-b583-4148cbf1f945"
      },
      "outputs": [
        {
          "output_type": "execute_result",
          "data": {
            "text/plain": [
              "(349, 15)"
            ]
          },
          "metadata": {},
          "execution_count": 8
        }
      ],
      "source": [
        "examples = examples.rename({\"c1.country_code\":\"country_code\"}, axis=1).drop(\"c2.country_code\", axis=1)\n",
        "examples[\"match\"] = 1\n",
        "examples[\"dataset\"] = \"examples\"\n",
        "examples.shape"
      ]
    },
    {
      "cell_type": "markdown",
      "source": [
        "## Полный датасет"
      ],
      "metadata": {
        "id": "v-HUuNcgRhh5"
      }
    },
    {
      "cell_type": "code",
      "execution_count": 9,
      "metadata": {
        "id": "An0dEpNpagw6"
      },
      "outputs": [],
      "source": [
        "data = all_data.sample(50000).reset_index(drop=True)\n",
        "sim_not_matches = wrong_data.loc[wrong_data[\"match\"]==0].sample(50000).reset_index(drop=True)"
      ]
    },
    {
      "cell_type": "code",
      "source": [
        "gc.collect()"
      ],
      "metadata": {
        "colab": {
          "base_uri": "https://localhost:8080/"
        },
        "id": "v5mhK1J8SwAr",
        "outputId": "abb81d30-7512-4ebe-ebd1-142cadf416ab"
      },
      "execution_count": 10,
      "outputs": [
        {
          "output_type": "execute_result",
          "data": {
            "text/plain": [
              "13"
            ]
          },
          "metadata": {},
          "execution_count": 10
        }
      ]
    },
    {
      "cell_type": "code",
      "execution_count": 11,
      "metadata": {
        "id": "V8AOf93D_2LN",
        "colab": {
          "base_uri": "https://localhost:8080/",
          "height": 204
        },
        "outputId": "c0e626d0-9354-46cd-b23f-50e8dba87d70"
      },
      "outputs": [
        {
          "output_type": "execute_result",
          "data": {
            "text/plain": [
              "          match c1.key\n",
              "           mean  count\n",
              "dataset               \n",
              "data        NaN  50000\n",
              "examples    1.0    349\n",
              "generated   0.0  50000"
            ],
            "text/html": [
              "\n",
              "  <div id=\"df-072403a0-0d75-4c7b-a720-82fc85e3ac66\">\n",
              "    <div class=\"colab-df-container\">\n",
              "      <div>\n",
              "<style scoped>\n",
              "    .dataframe tbody tr th:only-of-type {\n",
              "        vertical-align: middle;\n",
              "    }\n",
              "\n",
              "    .dataframe tbody tr th {\n",
              "        vertical-align: top;\n",
              "    }\n",
              "\n",
              "    .dataframe thead tr th {\n",
              "        text-align: left;\n",
              "    }\n",
              "\n",
              "    .dataframe thead tr:last-of-type th {\n",
              "        text-align: right;\n",
              "    }\n",
              "</style>\n",
              "<table border=\"1\" class=\"dataframe\">\n",
              "  <thead>\n",
              "    <tr>\n",
              "      <th></th>\n",
              "      <th>match</th>\n",
              "      <th>c1.key</th>\n",
              "    </tr>\n",
              "    <tr>\n",
              "      <th></th>\n",
              "      <th>mean</th>\n",
              "      <th>count</th>\n",
              "    </tr>\n",
              "    <tr>\n",
              "      <th>dataset</th>\n",
              "      <th></th>\n",
              "      <th></th>\n",
              "    </tr>\n",
              "  </thead>\n",
              "  <tbody>\n",
              "    <tr>\n",
              "      <th>data</th>\n",
              "      <td>NaN</td>\n",
              "      <td>50000</td>\n",
              "    </tr>\n",
              "    <tr>\n",
              "      <th>examples</th>\n",
              "      <td>1.0</td>\n",
              "      <td>349</td>\n",
              "    </tr>\n",
              "    <tr>\n",
              "      <th>generated</th>\n",
              "      <td>0.0</td>\n",
              "      <td>50000</td>\n",
              "    </tr>\n",
              "  </tbody>\n",
              "</table>\n",
              "</div>\n",
              "      <button class=\"colab-df-convert\" onclick=\"convertToInteractive('df-072403a0-0d75-4c7b-a720-82fc85e3ac66')\"\n",
              "              title=\"Convert this dataframe to an interactive table.\"\n",
              "              style=\"display:none;\">\n",
              "        \n",
              "  <svg xmlns=\"http://www.w3.org/2000/svg\" height=\"24px\"viewBox=\"0 0 24 24\"\n",
              "       width=\"24px\">\n",
              "    <path d=\"M0 0h24v24H0V0z\" fill=\"none\"/>\n",
              "    <path d=\"M18.56 5.44l.94 2.06.94-2.06 2.06-.94-2.06-.94-.94-2.06-.94 2.06-2.06.94zm-11 1L8.5 8.5l.94-2.06 2.06-.94-2.06-.94L8.5 2.5l-.94 2.06-2.06.94zm10 10l.94 2.06.94-2.06 2.06-.94-2.06-.94-.94-2.06-.94 2.06-2.06.94z\"/><path d=\"M17.41 7.96l-1.37-1.37c-.4-.4-.92-.59-1.43-.59-.52 0-1.04.2-1.43.59L10.3 9.45l-7.72 7.72c-.78.78-.78 2.05 0 2.83L4 21.41c.39.39.9.59 1.41.59.51 0 1.02-.2 1.41-.59l7.78-7.78 2.81-2.81c.8-.78.8-2.07 0-2.86zM5.41 20L4 18.59l7.72-7.72 1.47 1.35L5.41 20z\"/>\n",
              "  </svg>\n",
              "      </button>\n",
              "      \n",
              "  <style>\n",
              "    .colab-df-container {\n",
              "      display:flex;\n",
              "      flex-wrap:wrap;\n",
              "      gap: 12px;\n",
              "    }\n",
              "\n",
              "    .colab-df-convert {\n",
              "      background-color: #E8F0FE;\n",
              "      border: none;\n",
              "      border-radius: 50%;\n",
              "      cursor: pointer;\n",
              "      display: none;\n",
              "      fill: #1967D2;\n",
              "      height: 32px;\n",
              "      padding: 0 0 0 0;\n",
              "      width: 32px;\n",
              "    }\n",
              "\n",
              "    .colab-df-convert:hover {\n",
              "      background-color: #E2EBFA;\n",
              "      box-shadow: 0px 1px 2px rgba(60, 64, 67, 0.3), 0px 1px 3px 1px rgba(60, 64, 67, 0.15);\n",
              "      fill: #174EA6;\n",
              "    }\n",
              "\n",
              "    [theme=dark] .colab-df-convert {\n",
              "      background-color: #3B4455;\n",
              "      fill: #D2E3FC;\n",
              "    }\n",
              "\n",
              "    [theme=dark] .colab-df-convert:hover {\n",
              "      background-color: #434B5C;\n",
              "      box-shadow: 0px 1px 3px 1px rgba(0, 0, 0, 0.15);\n",
              "      filter: drop-shadow(0px 1px 2px rgba(0, 0, 0, 0.3));\n",
              "      fill: #FFFFFF;\n",
              "    }\n",
              "  </style>\n",
              "\n",
              "      <script>\n",
              "        const buttonEl =\n",
              "          document.querySelector('#df-072403a0-0d75-4c7b-a720-82fc85e3ac66 button.colab-df-convert');\n",
              "        buttonEl.style.display =\n",
              "          google.colab.kernel.accessAllowed ? 'block' : 'none';\n",
              "\n",
              "        async function convertToInteractive(key) {\n",
              "          const element = document.querySelector('#df-072403a0-0d75-4c7b-a720-82fc85e3ac66');\n",
              "          const dataTable =\n",
              "            await google.colab.kernel.invokeFunction('convertToInteractive',\n",
              "                                                     [key], {});\n",
              "          if (!dataTable) return;\n",
              "\n",
              "          const docLinkHtml = 'Like what you see? Visit the ' +\n",
              "            '<a target=\"_blank\" href=https://colab.research.google.com/notebooks/data_table.ipynb>data table notebook</a>'\n",
              "            + ' to learn more about interactive tables.';\n",
              "          element.innerHTML = '';\n",
              "          dataTable['output_type'] = 'display_data';\n",
              "          await google.colab.output.renderOutput(dataTable, element);\n",
              "          const docLink = document.createElement('div');\n",
              "          docLink.innerHTML = docLinkHtml;\n",
              "          element.appendChild(docLink);\n",
              "        }\n",
              "      </script>\n",
              "    </div>\n",
              "  </div>\n",
              "  "
            ]
          },
          "metadata": {},
          "execution_count": 11
        }
      ],
      "source": [
        "full_data = pd.concat([examples, data,sim_not_matches]).reset_index(drop=True)\n",
        "full_data[\"match\"] = full_data[\"match\"].astype(float)\n",
        "full_data.groupby(\"dataset\").agg({\"match\":[\"mean\"], \"c1.key\":\"count\"})"
      ]
    },
    {
      "cell_type": "markdown",
      "metadata": {
        "id": "K4VPDxbES1A-"
      },
      "source": [
        "# Вычислю фичи сходства\n",
        "Идеи:\n",
        "- Улучшить вычисление расстояния для почтового кода - сверять слева направо"
      ]
    },
    {
      "cell_type": "code",
      "execution_count": 12,
      "metadata": {
        "id": "1RQvBygwYPis"
      },
      "outputs": [],
      "source": [
        "from difflib import SequenceMatcher\n",
        "def similarity_ratio_func(df, field):\n",
        "  \n",
        "  def string_similarity(s1,s2):\n",
        "    #s1 = [c for c in s1 if c not in [\",\", \";\", \".\", \"\"]]\n",
        "    #return levenshtein_distance(s1,s2)\n",
        "    #return SequenceMatcher(isjunk = lambda x: x in \" ,;./-_\", a = str(s1).upper(), b=str(s2).upper()).ratio()\n",
        "    return fuzz.WRatio(s1, s2)/100\n",
        "\n",
        "  def postalcode_similarity(s1, s2):\n",
        "    longest_string = max([len(s1), len(s2)])\n",
        "    s1 = s1+\"0\"*(longest_string - len(s1))\n",
        "    s2 = s2+\"0\"*(longest_string - len(s2))\n",
        "\n",
        "    t = [a==b for a,b in zip(s1, s2)][::-1]\n",
        "\n",
        "    max_possible_similarity = sum([10**i for i in range(longest_string)])\n",
        "    current_similarity = sum([t[i]*10**i for i in range(len(t))])\n",
        "    difference = max_possible_similarity - current_similarity\n",
        "    difference_ratio = difference/max_possible_similarity\n",
        "    return 1-difference_ratio\n",
        "  \n",
        "  def rating_star_diff(s1, s2):\n",
        "    #r = abs(float(s1), float(s2))\n",
        "    try:\n",
        "      r = abs(float(s1)- float(s2))\n",
        "      return r\n",
        "    except:\n",
        "      return None\n",
        "\n",
        "  def universal_wrapper(x1, x2, func):\n",
        "    if pd.isna(x1) or pd.isna(x2):\n",
        "      return None\n",
        "    x1=str(x1).upper()\n",
        "    x2=str(x2).upper()\n",
        "    return func(x1,x2)\n",
        "\n",
        "  name1 = \"c1.\" + field\n",
        "  name2 = \"c2.\" + field\n",
        "  name3 = field + \"_similarity\"\n",
        "  \n",
        "  if \"postal_code\" in field:\n",
        "    df[name3] = df[[name1, name2]].apply(lambda x: universal_wrapper(x[name1], x[name2], postalcode_similarity),\n",
        "                                          axis=1)\n",
        "  elif \"star_rating\" in field:\n",
        "    df[name3] = df[[name1, name2]].apply(lambda x: universal_wrapper(x[name1], x[name2], rating_star_diff),\n",
        "                                          axis=1)\n",
        "  else:\n",
        "    df[name3] = df[[name1, name2]].apply(lambda x: universal_wrapper(x[name1], x[name2], string_similarity),\n",
        "                                          axis=1)"
      ]
    },
    {
      "cell_type": "code",
      "execution_count": 13,
      "metadata": {
        "id": "KTF1twNtVya7"
      },
      "outputs": [],
      "source": [
        "feature_fields = [c[3:] for c in cust_1.columns[1:] if \"country\" not in c]"
      ]
    },
    {
      "cell_type": "code",
      "execution_count": 14,
      "metadata": {
        "colab": {
          "base_uri": "https://localhost:8080/"
        },
        "id": "sMBWSI4mZXCS",
        "outputId": "e6798c69-80d8-4270-aa23-31bc6eca8c13"
      },
      "outputs": [
        {
          "output_type": "stream",
          "name": "stderr",
          "text": [
            "100%|██████████| 5/5 [00:39<00:00,  7.95s/it]\n"
          ]
        }
      ],
      "source": [
        "for ff in tqdm(feature_fields):\n",
        "  similarity_ratio_func(full_data, ff)"
      ]
    },
    {
      "cell_type": "code",
      "execution_count": 15,
      "metadata": {
        "colab": {
          "base_uri": "https://localhost:8080/"
        },
        "id": "k4lz_cxkbbqj",
        "outputId": "f169bdbb-de82-483e-d9a4-9704259ef9db"
      },
      "outputs": [
        {
          "output_type": "execute_result",
          "data": {
            "text/plain": [
              "['hotel_name_similarity',\n",
              " 'city_name_similarity',\n",
              " 'hotel_address_similarity',\n",
              " 'star_rating_similarity',\n",
              " 'postal_code_similarity',\n",
              " 'c1.key',\n",
              " 'c2.key']"
            ]
          },
          "metadata": {},
          "execution_count": 15
        }
      ],
      "source": [
        "features = [c for c in full_data.columns if (\"_similarity\" in c) and (\"_normed\" not in c)]\n",
        "ids = [\"c1.key\", \"c2.key\"]\n",
        "features+ids"
      ]
    },
    {
      "cell_type": "markdown",
      "metadata": {
        "id": "vhTB03L9hL9O"
      },
      "source": [
        "# Статистический подход"
      ]
    },
    {
      "cell_type": "code",
      "execution_count": 16,
      "metadata": {
        "id": "H5OQIeS7BmsH"
      },
      "outputs": [],
      "source": [
        "#Для дальнейшей нормализации\n",
        "means = full_data.loc[full_data[\"dataset\"]==\"examples\", features].mean()\n",
        "stds = full_data.loc[full_data[\"dataset\"]==\"examples\", features].std()"
      ]
    },
    {
      "cell_type": "code",
      "source": [
        "stds"
      ],
      "metadata": {
        "colab": {
          "base_uri": "https://localhost:8080/"
        },
        "id": "RSHfRakYoLF_",
        "outputId": "9d7787b1-0c1d-4933-f072-b18064637972"
      },
      "execution_count": 17,
      "outputs": [
        {
          "output_type": "execute_result",
          "data": {
            "text/plain": [
              "hotel_name_similarity       0.086189\n",
              "city_name_similarity        0.306524\n",
              "hotel_address_similarity    0.129651\n",
              "star_rating_similarity      0.934532\n",
              "postal_code_similarity      0.098345\n",
              "dtype: float64"
            ]
          },
          "metadata": {},
          "execution_count": 17
        }
      ]
    },
    {
      "cell_type": "code",
      "source": [
        "means"
      ],
      "metadata": {
        "colab": {
          "base_uri": "https://localhost:8080/"
        },
        "id": "uO3rbgcLoIyX",
        "outputId": "726fa996-f593-4809-91f8-5a2561c40b10"
      },
      "execution_count": 18,
      "outputs": [
        {
          "output_type": "execute_result",
          "data": {
            "text/plain": [
              "hotel_name_similarity       0.944842\n",
              "city_name_similarity        0.786246\n",
              "hotel_address_similarity    0.884183\n",
              "star_rating_similarity      0.561605\n",
              "postal_code_similarity      0.988271\n",
              "dtype: float64"
            ]
          },
          "metadata": {},
          "execution_count": 18
        }
      ]
    },
    {
      "cell_type": "code",
      "execution_count": 19,
      "metadata": {
        "id": "emHhXiaUD1UI"
      },
      "outputs": [],
      "source": [
        "#нормализуем\n",
        "for f in features:\n",
        "  full_data[f+\"_normed\"] = (full_data[f]-means[f])/stds[f]"
      ]
    },
    {
      "cell_type": "code",
      "execution_count": 20,
      "metadata": {
        "colab": {
          "base_uri": "https://localhost:8080/"
        },
        "id": "bYf5DneyEikK",
        "outputId": "702d7d3c-e7d4-4e26-808f-667886864a98"
      },
      "outputs": [
        {
          "output_type": "execute_result",
          "data": {
            "text/plain": [
              "['hotel_name_similarity',\n",
              " 'city_name_similarity',\n",
              " 'hotel_address_similarity',\n",
              " 'star_rating_similarity',\n",
              " 'postal_code_similarity']"
            ]
          },
          "metadata": {},
          "execution_count": 20
        }
      ],
      "source": [
        "features"
      ]
    },
    {
      "cell_type": "code",
      "execution_count": 21,
      "metadata": {
        "colab": {
          "base_uri": "https://localhost:8080/",
          "height": 282
        },
        "id": "NZ58gX3rER20",
        "outputId": "81c032cb-eff1-4dfa-f78c-2b6560e5d945"
      },
      "outputs": [
        {
          "output_type": "execute_result",
          "data": {
            "text/plain": [
              "<matplotlib.legend.Legend at 0x7f10b0ec3460>"
            ]
          },
          "metadata": {},
          "execution_count": 21
        },
        {
          "output_type": "display_data",
          "data": {
            "text/plain": [
              "<Figure size 432x288 with 1 Axes>"
            ],
            "image/png": "[encoded data removed]"
          },
          "metadata": {
            "needs_background": "light"
          }
        }
      ],
      "source": [
        "full_data.groupby('dataset')['hotel_name_similarity_normed'].plot(kind='kde')\n",
        "plt.legend()"
      ]
    },
    {
      "cell_type": "code",
      "execution_count": 22,
      "metadata": {
        "colab": {
          "base_uri": "https://localhost:8080/",
          "height": 350
        },
        "id": "ImiNL5YoEkUd",
        "outputId": "70a2175b-0ce3-4beb-a4e7-7596eaa40c49"
      },
      "outputs": [
        {
          "output_type": "execute_result",
          "data": {
            "text/plain": [
              "dataset\n",
              "data         AxesSubplot(0.125,0.125;0.775x0.755)\n",
              "examples     AxesSubplot(0.125,0.125;0.775x0.755)\n",
              "generated    AxesSubplot(0.125,0.125;0.775x0.755)\n",
              "Name: city_name_similarity_normed, dtype: object"
            ]
          },
          "metadata": {},
          "execution_count": 22
        },
        {
          "output_type": "display_data",
          "data": {
            "text/plain": [
              "<Figure size 432x288 with 1 Axes>"
            ],
            "image/png": "[encoded data removed]"
          },
          "metadata": {
            "needs_background": "light"
          }
        }
      ],
      "source": [
        "full_data.groupby('dataset')['city_name_similarity_normed'].plot(kind='kde')"
      ]
    },
    {
      "cell_type": "code",
      "execution_count": 23,
      "metadata": {
        "colab": {
          "base_uri": "https://localhost:8080/",
          "height": 350
        },
        "id": "p3G4KRMlEq4G",
        "outputId": "29aec1c8-4a4f-45ef-c240-e180a9703c68"
      },
      "outputs": [
        {
          "output_type": "execute_result",
          "data": {
            "text/plain": [
              "dataset\n",
              "data         AxesSubplot(0.125,0.125;0.775x0.755)\n",
              "examples     AxesSubplot(0.125,0.125;0.775x0.755)\n",
              "generated    AxesSubplot(0.125,0.125;0.775x0.755)\n",
              "Name: hotel_address_similarity_normed, dtype: object"
            ]
          },
          "metadata": {},
          "execution_count": 23
        },
        {
          "output_type": "display_data",
          "data": {
            "text/plain": [
              "<Figure size 432x288 with 1 Axes>"
            ],
            "image/png": "[encoded data removed]"
          },
          "metadata": {
            "needs_background": "light"
          }
        }
      ],
      "source": [
        "full_data.groupby('dataset')['hotel_address_similarity_normed'].plot(kind='kde')"
      ]
    },
    {
      "cell_type": "code",
      "execution_count": 24,
      "metadata": {
        "colab": {
          "base_uri": "https://localhost:8080/",
          "height": 350
        },
        "id": "x12exQUvEtyP",
        "outputId": "33f4bf8d-e018-4924-ee5f-54865a28a265"
      },
      "outputs": [
        {
          "output_type": "execute_result",
          "data": {
            "text/plain": [
              "dataset\n",
              "data         AxesSubplot(0.125,0.125;0.775x0.755)\n",
              "examples     AxesSubplot(0.125,0.125;0.775x0.755)\n",
              "generated    AxesSubplot(0.125,0.125;0.775x0.755)\n",
              "Name: star_rating_similarity_normed, dtype: object"
            ]
          },
          "metadata": {},
          "execution_count": 24
        },
        {
          "output_type": "display_data",
          "data": {
            "text/plain": [
              "<Figure size 432x288 with 1 Axes>"
            ],
            "image/png": "[encoded data removed]"
          },
          "metadata": {
            "needs_background": "light"
          }
        }
      ],
      "source": [
        "full_data.groupby('dataset')['star_rating_similarity_normed'].plot(kind='kde')"
      ]
    },
    {
      "cell_type": "code",
      "execution_count": 25,
      "metadata": {
        "colab": {
          "base_uri": "https://localhost:8080/",
          "height": 350
        },
        "id": "qL8k7XpFEys5",
        "outputId": "74391cb4-2e76-45f8-de94-aa0e485cba72"
      },
      "outputs": [
        {
          "output_type": "execute_result",
          "data": {
            "text/plain": [
              "dataset\n",
              "data         AxesSubplot(0.125,0.125;0.775x0.755)\n",
              "examples     AxesSubplot(0.125,0.125;0.775x0.755)\n",
              "generated    AxesSubplot(0.125,0.125;0.775x0.755)\n",
              "Name: postal_code_similarity_normed, dtype: object"
            ]
          },
          "metadata": {},
          "execution_count": 25
        },
        {
          "output_type": "display_data",
          "data": {
            "text/plain": [
              "<Figure size 432x288 with 1 Axes>"
            ],
            "image/png": "[encoded data removed]"
          },
          "metadata": {
            "needs_background": "light"
          }
        }
      ],
      "source": [
        "full_data.groupby('dataset')['postal_code_similarity_normed'].plot(kind='kde')"
      ]
    },
    {
      "cell_type": "markdown",
      "metadata": {
        "id": "J5o0fk5aJ4PC"
      },
      "source": [
        "#Квантили распределений"
      ]
    },
    {
      "cell_type": "code",
      "execution_count": 26,
      "metadata": {
        "id": "FDLVnv4PMVAK"
      },
      "outputs": [],
      "source": [
        "from scipy import stats"
      ]
    },
    {
      "cell_type": "code",
      "execution_count": 28,
      "metadata": {
        "colab": {
          "base_uri": "https://localhost:8080/"
        },
        "id": "J1-9k-z9KAKv",
        "outputId": "b37a8c78-0121-4ec2-d546-bbf90b6b5597"
      },
      "outputs": [
        {
          "output_type": "stream",
          "name": "stderr",
          "text": [
            "100%|██████████| 5/5 [00:06<00:00,  1.32s/it]\n"
          ]
        }
      ],
      "source": [
        "examples_tmp = full_data.loc[full_data[\"dataset\"]=='examples']\n",
        "for f in tqdm(features):\n",
        "  full_data[f+\"_normed_percentilte\"] =\\\n",
        "    full_data[f+\"_normed\"].apply(lambda x: stats.percentileofscore(examples_tmp[f+\"_normed\"], x)/100)"
      ]
    },
    {
      "cell_type": "code",
      "execution_count": 29,
      "metadata": {
        "id": "knXNyT0qMSg2"
      },
      "outputs": [],
      "source": [
        "#full_data.sample(10000).to_excel(\"full_data_sample.xlsx\")"
      ]
    },
    {
      "cell_type": "markdown",
      "source": [
        "## Порог принятия/отвержения гипотезы\n",
        "Попробуем подобрать порог при котормо следует отвергать ил ипринимать ту ил иную гипотезу - на основе данных из примеров"
      ],
      "metadata": {
        "id": "OJ3OVfNED59D"
      }
    },
    {
      "cell_type": "code",
      "source": [
        "def perc_research(field):\n",
        "  rej_perc = list()\n",
        "  for p in range(0,100,1):\n",
        "    rejected = full_data.loc[full_data[\"dataset\"]==\"examples\", field]<p/100\n",
        "    rejected_mean = rejected.mean()\n",
        "    rej_perc.append(rejected_mean)\n",
        "  \n",
        "  plt.plot(rej_perc, label = field)\n",
        "  plt.legend()"
      ],
      "metadata": {
        "id": "nFsSyXMqE70q"
      },
      "execution_count": 30,
      "outputs": []
    },
    {
      "cell_type": "code",
      "source": [
        "perc_research(\"hotel_name_similarity_normed_percentilte\")"
      ],
      "metadata": {
        "colab": {
          "base_uri": "https://localhost:8080/",
          "height": 265
        },
        "id": "kZabxHaGESym",
        "outputId": "9625e6a3-066f-414e-e61f-a6dc8bc5d473"
      },
      "execution_count": 31,
      "outputs": [
        {
          "output_type": "display_data",
          "data": {
            "text/plain": [
              "<Figure size 432x288 with 1 Axes>"
            ],
            "image/png": "[encoded data removed]"
          },
          "metadata": {
            "needs_background": "light"
          }
        }
      ]
    },
    {
      "cell_type": "code",
      "source": [
        "perc_research(\"city_name_similarity_normed_percentilte\")"
      ],
      "metadata": {
        "colab": {
          "base_uri": "https://localhost:8080/",
          "height": 265
        },
        "id": "KfVjpuUoFlF4",
        "outputId": "603695ff-03b1-4575-d5af-3587f15a8059"
      },
      "execution_count": 32,
      "outputs": [
        {
          "output_type": "display_data",
          "data": {
            "text/plain": [
              "<Figure size 432x288 with 1 Axes>"
            ],
            "image/png": "[encoded data removed]"
          },
          "metadata": {
            "needs_background": "light"
          }
        }
      ]
    },
    {
      "cell_type": "code",
      "source": [
        "perc_research(\"hotel_address_similarity_normed_percentilte\")"
      ],
      "metadata": {
        "colab": {
          "base_uri": "https://localhost:8080/",
          "height": 265
        },
        "id": "xkklwxQBFnMH",
        "outputId": "85bb92bc-564a-40d9-84dd-be29b4150341"
      },
      "execution_count": 33,
      "outputs": [
        {
          "output_type": "display_data",
          "data": {
            "text/plain": [
              "<Figure size 432x288 with 1 Axes>"
            ],
            "image/png": "[encoded data removed]"
          },
          "metadata": {
            "needs_background": "light"
          }
        }
      ]
    },
    {
      "cell_type": "code",
      "source": [
        "perc_research(\"star_rating_similarity_normed_percentilte\")"
      ],
      "metadata": {
        "colab": {
          "base_uri": "https://localhost:8080/",
          "height": 265
        },
        "id": "io8PNBxQFvm9",
        "outputId": "5dcb6c4f-8308-4eca-9ee1-1a0662bd1d1c"
      },
      "execution_count": 34,
      "outputs": [
        {
          "output_type": "display_data",
          "data": {
            "text/plain": [
              "<Figure size 432x288 with 1 Axes>"
            ],
            "image/png": "[encoded data removed]"
          },
          "metadata": {
            "needs_background": "light"
          }
        }
      ]
    },
    {
      "cell_type": "code",
      "source": [
        "perc_research(\"postal_code_similarity_normed_percentilte\")"
      ],
      "metadata": {
        "colab": {
          "base_uri": "https://localhost:8080/",
          "height": 265
        },
        "id": "fXYU4LOQFyE7",
        "outputId": "e2920825-a3d9-484f-bfda-4e99d1a6d50e"
      },
      "execution_count": 35,
      "outputs": [
        {
          "output_type": "display_data",
          "data": {
            "text/plain": [
              "<Figure size 432x288 with 1 Axes>"
            ],
            "image/png": "[encoded data removed]"
          },
          "metadata": {
            "needs_background": "light"
          }
        }
      ]
    },
    {
      "cell_type": "markdown",
      "metadata": {
        "id": "DV6OcKlPqhAw"
      },
      "source": [
        "## Проверим гипотезы\n",
        "Множественная проверка from statsmodels.stats.multitest import multipletests показала тебя плохо"
      ]
    },
    {
      "cell_type": "code",
      "execution_count": 36,
      "metadata": {
        "id": "3vLU0jrnQvG5",
        "colab": {
          "base_uri": "https://localhost:8080/"
        },
        "outputId": "be34f763-de98-4c72-a848-dcac30009e0c"
      },
      "outputs": [
        {
          "output_type": "execute_result",
          "data": {
            "text/plain": [
              "['hotel_name_similarity_normed_percentilte',\n",
              " 'city_name_similarity_normed_percentilte',\n",
              " 'hotel_address_similarity_normed_percentilte',\n",
              " 'star_rating_similarity_normed_percentilte',\n",
              " 'postal_code_similarity_normed_percentilte']"
            ]
          },
          "metadata": {},
          "execution_count": 36
        }
      ],
      "source": [
        "percentiles_fields = [c for c in full_data.columns if \"_normed_percentilte\" in c]\n",
        "percentiles_fields"
      ]
    },
    {
      "cell_type": "code",
      "source": [
        "#выберу такой порог отсечнеия чтобы максимально отвести примеры от всех данных\n",
        "data_rejected = list()\n",
        "ex_rejected = list()\n",
        "for pcrit in tqdm(range(0,100,1)):\n",
        "  rejection = list()\n",
        "  for f in percentiles_fields:\n",
        "    name = f[:-30]+\"_reject\"\n",
        "    rejection.append(name)\n",
        "    full_data[name] = full_data[f].apply(lambda x: int(x<pcrit/100))\n",
        "\n",
        "  full_data[\"total_rejects\"] = full_data[rejection].sum(axis=1)\n",
        "  \n",
        "  stats = full_data.groupby(\"dataset\")[\"total_rejects\"].mean()\n",
        "  data_rejected.append(stats[\"data\"])\n",
        "  ex_rejected.append(stats[\"examples\"])\n",
        "\n",
        "  #print(pcrit/100)"
      ],
      "metadata": {
        "colab": {
          "base_uri": "https://localhost:8080/"
        },
        "id": "1Pu3vfAa42Uj",
        "outputId": "93d1a446-2a57-4159-f95a-3fbec3b68f78"
      },
      "execution_count": 37,
      "outputs": [
        {
          "output_type": "stream",
          "name": "stderr",
          "text": [
            "100%|██████████| 100/100 [00:28<00:00,  3.52it/s]\n"
          ]
        }
      ]
    },
    {
      "cell_type": "code",
      "source": [
        "import matplotlib.pyplot as plt\n",
        "plt.plot(data_rejected, label = \"rejected on data\", color=\"red\")\n",
        "plt.plot(ex_rejected, label = \"rejected on examples\")\n",
        "plt.legend()"
      ],
      "metadata": {
        "colab": {
          "base_uri": "https://localhost:8080/",
          "height": 284
        },
        "id": "sgWRqHie5oLr",
        "outputId": "c999c12b-0d7f-439a-ea75-49922059724a"
      },
      "execution_count": 38,
      "outputs": [
        {
          "output_type": "execute_result",
          "data": {
            "text/plain": [
              "<matplotlib.legend.Legend at 0x7f10a3bf86d0>"
            ]
          },
          "metadata": {},
          "execution_count": 38
        },
        {
          "output_type": "display_data",
          "data": {
            "text/plain": [
              "<Figure size 432x288 with 1 Axes>"
            ],
            "image/png": "[encoded data removed]"
          },
          "metadata": {
            "needs_background": "light"
          }
        }
      ]
    },
    {
      "cell_type": "code",
      "source": [
        "plt.plot([d-e for d,e in zip(data_rejected,ex_rejected)])"
      ],
      "metadata": {
        "colab": {
          "base_uri": "https://localhost:8080/",
          "height": 282
        },
        "id": "4DS0LcuV6CEh",
        "outputId": "bbcbbe47-0322-4f87-f09c-8b7f0e81ffd4"
      },
      "execution_count": 39,
      "outputs": [
        {
          "output_type": "execute_result",
          "data": {
            "text/plain": [
              "[<matplotlib.lines.Line2D at 0x7f10a4392e50>]"
            ]
          },
          "metadata": {},
          "execution_count": 39
        },
        {
          "output_type": "display_data",
          "data": {
            "text/plain": [
              "<Figure size 432x288 with 1 Axes>"
            ],
            "image/png": "[encoded data removed]"
          },
          "metadata": {
            "needs_background": "light"
          }
        }
      ]
    },
    {
      "cell_type": "code",
      "source": [
        "rejection = list()\n",
        "for f in percentiles_fields:\n",
        "  name = f[:-30]+\"_reject\"\n",
        "  rejection.append(name)\n",
        "  full_data[name] = full_data[f].apply(lambda x: int(x<0.3))\n",
        "\n",
        "full_data[\"total_rejects\"] = full_data[rejection].sum(axis=1)"
      ],
      "metadata": {
        "id": "yeJcrcny5kHh"
      },
      "execution_count": 40,
      "outputs": []
    },
    {
      "cell_type": "code",
      "source": [
        "#full_data[rejection+[\"total_rejects\"]]"
      ],
      "metadata": {
        "id": "8PG1YSO_uYVN"
      },
      "execution_count": 41,
      "outputs": []
    },
    {
      "cell_type": "code",
      "execution_count": 42,
      "metadata": {
        "id": "hwE1C-kwTUaa"
      },
      "outputs": [],
      "source": [
        "#full_data.to_excel(\"full_data.xlsx\")"
      ]
    },
    {
      "cell_type": "markdown",
      "metadata": {
        "id": "QUkwemqqoOpe"
      },
      "source": [
        "## Анализ результатов на основе гипотез\n"
      ]
    },
    {
      "cell_type": "code",
      "source": [
        "full_data.groupby(\"dataset\")[\"total_rejects\"].mean()"
      ],
      "metadata": {
        "colab": {
          "base_uri": "https://localhost:8080/"
        },
        "id": "-zHEA3D5lC6C",
        "outputId": "6f67a0e7-85ee-49d0-de7d-e8e302f4bb20"
      },
      "execution_count": 91,
      "outputs": [
        {
          "output_type": "execute_result",
          "data": {
            "text/plain": [
              "dataset\n",
              "data         3.806340\n",
              "examples     1.094556\n",
              "generated    3.808040\n",
              "Name: total_rejects, dtype: float64"
            ]
          },
          "metadata": {},
          "execution_count": 91
        }
      ]
    },
    {
      "cell_type": "code",
      "source": [
        "bad_examples = full_data[full_data[\"total_rejects\"]>2]\n",
        "good_examples = full_data[full_data[\"total_rejects\"]<2]"
      ],
      "metadata": {
        "id": "UTowhW12ltSR"
      },
      "execution_count": 92,
      "outputs": []
    },
    {
      "cell_type": "code",
      "source": [
        "good_examples.groupby(\"dataset\")[\"match\"].mean()"
      ],
      "metadata": {
        "colab": {
          "base_uri": "https://localhost:8080/"
        },
        "id": "aWCbH5B1adV3",
        "outputId": "22a83278-ab57-477e-ffc5-2234bdce7900"
      },
      "execution_count": 93,
      "outputs": [
        {
          "output_type": "execute_result",
          "data": {
            "text/plain": [
              "dataset\n",
              "data         NaN\n",
              "examples     1.0\n",
              "generated    0.0\n",
              "Name: match, dtype: float64"
            ]
          },
          "metadata": {},
          "execution_count": 93
        }
      ]
    },
    {
      "cell_type": "code",
      "source": [
        "bad_examples.groupby(\"dataset\")[\"match\"].mean()"
      ],
      "metadata": {
        "colab": {
          "base_uri": "https://localhost:8080/"
        },
        "id": "nHqCtYLEam5q",
        "outputId": "c9ca62ae-1847-41b5-c226-ed6e40e68def"
      },
      "execution_count": 94,
      "outputs": [
        {
          "output_type": "execute_result",
          "data": {
            "text/plain": [
              "dataset\n",
              "data         NaN\n",
              "examples     1.0\n",
              "generated    0.0\n",
              "Name: match, dtype: float64"
            ]
          },
          "metadata": {},
          "execution_count": 94
        }
      ]
    },
    {
      "cell_type": "code",
      "source": [
        "bad_examples[\"match\"].mean()\n",
        "good_examples[\"match\"].mean()"
      ],
      "metadata": {
        "colab": {
          "base_uri": "https://localhost:8080/"
        },
        "id": "kpKm5venasY1",
        "outputId": "49daf251-f5e6-4def-f2d2-b0c9e2a66138"
      },
      "execution_count": 96,
      "outputs": [
        {
          "output_type": "execute_result",
          "data": {
            "text/plain": [
              "0.9607843137254902"
            ]
          },
          "metadata": {},
          "execution_count": 96
        }
      ]
    },
    {
      "cell_type": "code",
      "source": [
        "good_examples.loc[good_examples[\"dataset\"]==\"data\"].to_excel(\"good_examples.xlsx\")"
      ],
      "metadata": {
        "id": "erGf_fCjmg11"
      },
      "execution_count": 47,
      "outputs": []
    },
    {
      "cell_type": "markdown",
      "source": [
        "# ML"
      ],
      "metadata": {
        "id": "7e8DNNjZ6dfw"
      }
    },
    {
      "cell_type": "code",
      "source": [
        "ml_features = [\n",
        "       #'hotel_name_similarity','city_name_similarity', 'hotel_address_similarity',\n",
        "       #'star_rating_similarity', 'postal_code_similarity',\n",
        "       'hotel_name_similarity_normed', 'city_name_similarity_normed',\n",
        "       'hotel_address_similarity_normed', 'star_rating_similarity_normed',\n",
        "       'postal_code_similarity_normed',\n",
        "       #'hotel_name_similarity_normed_percentilte',\n",
        "       #'city_name_similarity_normed_percentilte',\n",
        "       #'hotel_address_similarity_normed_percentilte',\n",
        "       #'star_rating_similarity_normed_percentilte',\n",
        "       #'postal_code_similarity_normed_percentilte', \n",
        "       #'hotel_name_reject',\n",
        "       #'city_name_reject', 'hotel_address_reject', 'star_rating_reject',\n",
        "       #'postal_code_reject', 'total_rejects'\n",
        "       ]"
      ],
      "metadata": {
        "id": "OAapVMQiIWlc"
      },
      "execution_count": 79,
      "outputs": []
    },
    {
      "cell_type": "code",
      "source": [
        "from sklearn.model_selection import train_test_split\n",
        "from lightgbm import LGBMClassifier"
      ],
      "metadata": {
        "id": "RTBJuKsuU1PI"
      },
      "execution_count": 80,
      "outputs": []
    },
    {
      "cell_type": "code",
      "source": [
        "full_data[\"match\"] = full_data[\"match\"].astype(float)\n",
        "train, test = train_test_split(full_data.loc[pd.notna(full_data[\"match\"])])"
      ],
      "metadata": {
        "id": "CKmeX_3eU-mN"
      },
      "execution_count": 81,
      "outputs": []
    },
    {
      "cell_type": "code",
      "source": [
        "clf = LGBMClassifier()"
      ],
      "metadata": {
        "id": "BhIpwketmVWJ"
      },
      "execution_count": 83,
      "outputs": []
    },
    {
      "cell_type": "code",
      "source": [
        "clf_fitted = clf.fit(train[ml_features], train[\"match\"])\n",
        "[(f,i) for f,i in zip(ml_features, clf_fitted.feature_importances_)]"
      ],
      "metadata": {
        "colab": {
          "base_uri": "https://localhost:8080/"
        },
        "id": "m-zpFVFwmXkq",
        "outputId": "3fad6360-fe4f-40fa-ee17-d71a8c92bd00"
      },
      "execution_count": 84,
      "outputs": [
        {
          "output_type": "execute_result",
          "data": {
            "text/plain": [
              "[('hotel_name_similarity_normed', 788),\n",
              " ('city_name_similarity_normed', 655),\n",
              " ('hotel_address_similarity_normed', 510),\n",
              " ('star_rating_similarity_normed', 443),\n",
              " ('postal_code_similarity_normed', 604)]"
            ]
          },
          "metadata": {},
          "execution_count": 84
        }
      ]
    },
    {
      "cell_type": "code",
      "source": [
        "from sklearn.metrics import roc_auc_score\n",
        "roc_auc_score(test[\"match\"], clf_fitted.predict_proba(test[ml_features])[:,1])"
      ],
      "metadata": {
        "colab": {
          "base_uri": "https://localhost:8080/"
        },
        "id": "qT3gLcyt8cxT",
        "outputId": "0e9bba2c-cddf-4d8c-e98f-859765522bde"
      },
      "execution_count": 85,
      "outputs": [
        {
          "output_type": "execute_result",
          "data": {
            "text/plain": [
              "0.9998785865100729"
            ]
          },
          "metadata": {},
          "execution_count": 85
        }
      ]
    },
    {
      "cell_type": "code",
      "source": [
        "roc_auc_score(train[\"match\"], clf_fitted.predict_proba(train[ml_features])[:,1])"
      ],
      "metadata": {
        "colab": {
          "base_uri": "https://localhost:8080/"
        },
        "id": "tVK7EYyp9WRv",
        "outputId": "ecdff52d-9806-4997-bd46-96b75f95de5b"
      },
      "execution_count": 86,
      "outputs": [
        {
          "output_type": "execute_result",
          "data": {
            "text/plain": [
              "0.9999999004789352"
            ]
          },
          "metadata": {},
          "execution_count": 86
        }
      ]
    },
    {
      "cell_type": "markdown",
      "source": [
        "## Применим на всех данных"
      ],
      "metadata": {
        "id": "mZomNlOl-J2f"
      }
    },
    {
      "cell_type": "code",
      "source": [
        "full_data[\"ml_predicted\"] = clf_fitted.predict(full_data[ml_features])\n",
        "full_data[\"ml_predicted_proba\"] = clf_fitted.predict_proba(full_data[ml_features])[:,1]"
      ],
      "metadata": {
        "id": "hcXxT9eD-VMI"
      },
      "execution_count": 87,
      "outputs": []
    },
    {
      "cell_type": "code",
      "source": [
        "full_data.loc[(full_data[\"dataset\"]==\"examples\")&(full_data[\"ml_predicted\"]==0), full_data.columns[:15]]"
      ],
      "metadata": {
        "colab": {
          "base_uri": "https://localhost:8080/",
          "height": 455
        },
        "id": "ATRuF9IGXmB_",
        "outputId": "2dc87aa5-7298-4bef-e847-55a9ac596a23"
      },
      "execution_count": 105,
      "outputs": [
        {
          "output_type": "execute_result",
          "data": {
            "text/plain": [
              "                               c1.key  \\\n",
              "1    5BB207CBB33F3D099BCD979F86B3F54B   \n",
              "83   D0E7E132418B732F717D4348FEE17AE1   \n",
              "196  73D429BC62EFC7149CFB36C6800C289E   \n",
              "287  DFC0A6F87D87F4EE1E7AB36B1C605DA2   \n",
              "288  85F1C44C25A14B5E918B6D2917FEF5E2   \n",
              "\n",
              "                                         c1.hotel_name c1.city_name  \\\n",
              "1    Chongqing Yangtze River Internatioanl Youth Ho...    Chongqing   \n",
              "83                           Tulips Hotel & Restaurant   Yogyakarta   \n",
              "196                               Even Suites by Spree        Hampi   \n",
              "287                                   Bakeroom1 Hostel   Chiang Mai   \n",
              "288  7 Days Inn Guangzhou Baiyun Yongtai Metro 2nd ...    Guangzhou   \n",
              "\n",
              "    country_code                           c1.hotel_address  c1.star_rating  \\\n",
              "1             CN  No. 80, Changbin Road, Chao Tian Men Port             3.0   \n",
              "83            ID           Jalan Tirtodipuran 42 Yogyakarta             1.0   \n",
              "196           IN                             Bus Stand Road             3.0   \n",
              "287           TH            10/17 NimmanHaemin Road Lane 17             2.0   \n",
              "288           CN           Building 3, No. 116 Tongtai Road             1.5   \n",
              "\n",
              "    c1.postal_code                            c2.key  \\\n",
              "1           400010  9288C09CFB7714C3CAF57723C04BB6A4   \n",
              "83           55143  89EAD862FE8A80C066D5DD550FFDE2F5   \n",
              "196         583201  D564A93B1225C95D7FB0C588DD609EB8   \n",
              "287          50100  E06B2BE5AFB60DBF5999749F5D79E64C   \n",
              "288            NaN  739B4F2C65D4DBCE62C30CE8C18FCBFF   \n",
              "\n",
              "                                         c2.hotel_name c2.city_name  \\\n",
              "1             Yangtze River International Youth Hostel    Chongqing   \n",
              "83                                        Hotel Tulips   Yogyakarta   \n",
              "196                     Even Suites - Managed by Spree       Hospet   \n",
              "287                                          Bake Room   Chiang Mai   \n",
              "288  7Days Inn Guangzhou Baiyun Yongtai Subway Stat...    Guangzhou   \n",
              "\n",
              "                                      c2.hotel_address  c2.star_rating  \\\n",
              "1    No 80,Changbin Rd,Dock 11,ChaoTianMen,Yuzhong ...             2.0   \n",
              "83                                 Jl. Tirtodipuran 42             2.0   \n",
              "196          343, 4th ward, opp SBI Bank, Hospet India             3.0   \n",
              "287  10/17, Nimmana Haeminda Rd Lane 17, Amphoe Mue...             0.0   \n",
              "288  No. 3 Building, No. 116 Tongtai Road, Baiyun D...             2.0   \n",
              "\n",
              "    c2.postal_code  match   dataset  \n",
              "1           400010    1.0  examples  \n",
              "83           55143    1.0  examples  \n",
              "196         583201    1.0  examples  \n",
              "287          50220    1.0  examples  \n",
              "288         510420    1.0  examples  "
            ],
            "text/html": [
              "\n",
              "  <div id=\"df-4adbc08d-3072-4ee7-9214-bc0648b7b8af\">\n",
              "    <div class=\"colab-df-container\">\n",
              "      <div>\n",
              "<style scoped>\n",
              "    .dataframe tbody tr th:only-of-type {\n",
              "        vertical-align: middle;\n",
              "    }\n",
              "\n",
              "    .dataframe tbody tr th {\n",
              "        vertical-align: top;\n",
              "    }\n",
              "\n",
              "    .dataframe thead th {\n",
              "        text-align: right;\n",
              "    }\n",
              "</style>\n",
              "<table border=\"1\" class=\"dataframe\">\n",
              "  <thead>\n",
              "    <tr style=\"text-align: right;\">\n",
              "      <th></th>\n",
              "      <th>c1.key</th>\n",
              "      <th>c1.hotel_name</th>\n",
              "      <th>c1.city_name</th>\n",
              "      <th>country_code</th>\n",
              "      <th>c1.hotel_address</th>\n",
              "      <th>c1.star_rating</th>\n",
              "      <th>c1.postal_code</th>\n",
              "      <th>c2.key</th>\n",
              "      <th>c2.hotel_name</th>\n",
              "      <th>c2.city_name</th>\n",
              "      <th>c2.hotel_address</th>\n",
              "      <th>c2.star_rating</th>\n",
              "      <th>c2.postal_code</th>\n",
              "      <th>match</th>\n",
              "      <th>dataset</th>\n",
              "    </tr>\n",
              "  </thead>\n",
              "  <tbody>\n",
              "    <tr>\n",
              "      <th>1</th>\n",
              "      <td>5BB207CBB33F3D099BCD979F86B3F54B</td>\n",
              "      <td>Chongqing Yangtze River Internatioanl Youth Ho...</td>\n",
              "      <td>Chongqing</td>\n",
              "      <td>CN</td>\n",
              "      <td>No. 80, Changbin Road, Chao Tian Men Port</td>\n",
              "      <td>3.0</td>\n",
              "      <td>400010</td>\n",
              "      <td>9288C09CFB7714C3CAF57723C04BB6A4</td>\n",
              "      <td>Yangtze River International Youth Hostel</td>\n",
              "      <td>Chongqing</td>\n",
              "      <td>No 80,Changbin Rd,Dock 11,ChaoTianMen,Yuzhong ...</td>\n",
              "      <td>2.0</td>\n",
              "      <td>400010</td>\n",
              "      <td>1.0</td>\n",
              "      <td>examples</td>\n",
              "    </tr>\n",
              "    <tr>\n",
              "      <th>83</th>\n",
              "      <td>D0E7E132418B732F717D4348FEE17AE1</td>\n",
              "      <td>Tulips Hotel &amp; Restaurant</td>\n",
              "      <td>Yogyakarta</td>\n",
              "      <td>ID</td>\n",
              "      <td>Jalan Tirtodipuran 42 Yogyakarta</td>\n",
              "      <td>1.0</td>\n",
              "      <td>55143</td>\n",
              "      <td>89EAD862FE8A80C066D5DD550FFDE2F5</td>\n",
              "      <td>Hotel Tulips</td>\n",
              "      <td>Yogyakarta</td>\n",
              "      <td>Jl. Tirtodipuran 42</td>\n",
              "      <td>2.0</td>\n",
              "      <td>55143</td>\n",
              "      <td>1.0</td>\n",
              "      <td>examples</td>\n",
              "    </tr>\n",
              "    <tr>\n",
              "      <th>196</th>\n",
              "      <td>73D429BC62EFC7149CFB36C6800C289E</td>\n",
              "      <td>Even Suites by Spree</td>\n",
              "      <td>Hampi</td>\n",
              "      <td>IN</td>\n",
              "      <td>Bus Stand Road</td>\n",
              "      <td>3.0</td>\n",
              "      <td>583201</td>\n",
              "      <td>D564A93B1225C95D7FB0C588DD609EB8</td>\n",
              "      <td>Even Suites - Managed by Spree</td>\n",
              "      <td>Hospet</td>\n",
              "      <td>343, 4th ward, opp SBI Bank, Hospet India</td>\n",
              "      <td>3.0</td>\n",
              "      <td>583201</td>\n",
              "      <td>1.0</td>\n",
              "      <td>examples</td>\n",
              "    </tr>\n",
              "    <tr>\n",
              "      <th>287</th>\n",
              "      <td>DFC0A6F87D87F4EE1E7AB36B1C605DA2</td>\n",
              "      <td>Bakeroom1 Hostel</td>\n",
              "      <td>Chiang Mai</td>\n",
              "      <td>TH</td>\n",
              "      <td>10/17 NimmanHaemin Road Lane 17</td>\n",
              "      <td>2.0</td>\n",
              "      <td>50100</td>\n",
              "      <td>E06B2BE5AFB60DBF5999749F5D79E64C</td>\n",
              "      <td>Bake Room</td>\n",
              "      <td>Chiang Mai</td>\n",
              "      <td>10/17, Nimmana Haeminda Rd Lane 17, Amphoe Mue...</td>\n",
              "      <td>0.0</td>\n",
              "      <td>50220</td>\n",
              "      <td>1.0</td>\n",
              "      <td>examples</td>\n",
              "    </tr>\n",
              "    <tr>\n",
              "      <th>288</th>\n",
              "      <td>85F1C44C25A14B5E918B6D2917FEF5E2</td>\n",
              "      <td>7 Days Inn Guangzhou Baiyun Yongtai Metro 2nd ...</td>\n",
              "      <td>Guangzhou</td>\n",
              "      <td>CN</td>\n",
              "      <td>Building 3, No. 116 Tongtai Road</td>\n",
              "      <td>1.5</td>\n",
              "      <td>NaN</td>\n",
              "      <td>739B4F2C65D4DBCE62C30CE8C18FCBFF</td>\n",
              "      <td>7Days Inn Guangzhou Baiyun Yongtai Subway Stat...</td>\n",
              "      <td>Guangzhou</td>\n",
              "      <td>No. 3 Building, No. 116 Tongtai Road, Baiyun D...</td>\n",
              "      <td>2.0</td>\n",
              "      <td>510420</td>\n",
              "      <td>1.0</td>\n",
              "      <td>examples</td>\n",
              "    </tr>\n",
              "  </tbody>\n",
              "</table>\n",
              "</div>\n",
              "      <button class=\"colab-df-convert\" onclick=\"convertToInteractive('df-4adbc08d-3072-4ee7-9214-bc0648b7b8af')\"\n",
              "              title=\"Convert this dataframe to an interactive table.\"\n",
              "              style=\"display:none;\">\n",
              "        \n",
              "  <svg xmlns=\"http://www.w3.org/2000/svg\" height=\"24px\"viewBox=\"0 0 24 24\"\n",
              "       width=\"24px\">\n",
              "    <path d=\"M0 0h24v24H0V0z\" fill=\"none\"/>\n",
              "    <path d=\"M18.56 5.44l.94 2.06.94-2.06 2.06-.94-2.06-.94-.94-2.06-.94 2.06-2.06.94zm-11 1L8.5 8.5l.94-2.06 2.06-.94-2.06-.94L8.5 2.5l-.94 2.06-2.06.94zm10 10l.94 2.06.94-2.06 2.06-.94-2.06-.94-.94-2.06-.94 2.06-2.06.94z\"/><path d=\"M17.41 7.96l-1.37-1.37c-.4-.4-.92-.59-1.43-.59-.52 0-1.04.2-1.43.59L10.3 9.45l-7.72 7.72c-.78.78-.78 2.05 0 2.83L4 21.41c.39.39.9.59 1.41.59.51 0 1.02-.2 1.41-.59l7.78-7.78 2.81-2.81c.8-.78.8-2.07 0-2.86zM5.41 20L4 18.59l7.72-7.72 1.47 1.35L5.41 20z\"/>\n",
              "  </svg>\n",
              "      </button>\n",
              "      \n",
              "  <style>\n",
              "    .colab-df-container {\n",
              "      display:flex;\n",
              "      flex-wrap:wrap;\n",
              "      gap: 12px;\n",
              "    }\n",
              "\n",
              "    .colab-df-convert {\n",
              "      background-color: #E8F0FE;\n",
              "      border: none;\n",
              "      border-radius: 50%;\n",
              "      cursor: pointer;\n",
              "      display: none;\n",
              "      fill: #1967D2;\n",
              "      height: 32px;\n",
              "      padding: 0 0 0 0;\n",
              "      width: 32px;\n",
              "    }\n",
              "\n",
              "    .colab-df-convert:hover {\n",
              "      background-color: #E2EBFA;\n",
              "      box-shadow: 0px 1px 2px rgba(60, 64, 67, 0.3), 0px 1px 3px 1px rgba(60, 64, 67, 0.15);\n",
              "      fill: #174EA6;\n",
              "    }\n",
              "\n",
              "    [theme=dark] .colab-df-convert {\n",
              "      background-color: #3B4455;\n",
              "      fill: #D2E3FC;\n",
              "    }\n",
              "\n",
              "    [theme=dark] .colab-df-convert:hover {\n",
              "      background-color: #434B5C;\n",
              "      box-shadow: 0px 1px 3px 1px rgba(0, 0, 0, 0.15);\n",
              "      filter: drop-shadow(0px 1px 2px rgba(0, 0, 0, 0.3));\n",
              "      fill: #FFFFFF;\n",
              "    }\n",
              "  </style>\n",
              "\n",
              "      <script>\n",
              "        const buttonEl =\n",
              "          document.querySelector('#df-4adbc08d-3072-4ee7-9214-bc0648b7b8af button.colab-df-convert');\n",
              "        buttonEl.style.display =\n",
              "          google.colab.kernel.accessAllowed ? 'block' : 'none';\n",
              "\n",
              "        async function convertToInteractive(key) {\n",
              "          const element = document.querySelector('#df-4adbc08d-3072-4ee7-9214-bc0648b7b8af');\n",
              "          const dataTable =\n",
              "            await google.colab.kernel.invokeFunction('convertToInteractive',\n",
              "                                                     [key], {});\n",
              "          if (!dataTable) return;\n",
              "\n",
              "          const docLinkHtml = 'Like what you see? Visit the ' +\n",
              "            '<a target=\"_blank\" href=https://colab.research.google.com/notebooks/data_table.ipynb>data table notebook</a>'\n",
              "            + ' to learn more about interactive tables.';\n",
              "          element.innerHTML = '';\n",
              "          dataTable['output_type'] = 'display_data';\n",
              "          await google.colab.output.renderOutput(dataTable, element);\n",
              "          const docLink = document.createElement('div');\n",
              "          docLink.innerHTML = docLinkHtml;\n",
              "          element.appendChild(docLink);\n",
              "        }\n",
              "      </script>\n",
              "    </div>\n",
              "  </div>\n",
              "  "
            ]
          },
          "metadata": {},
          "execution_count": 105
        }
      ]
    },
    {
      "cell_type": "code",
      "source": [],
      "metadata": {
        "id": "pnHbQ_H6bSYA"
      },
      "execution_count": null,
      "outputs": []
    }
  ],
  "metadata": {
    "colab": {
      "provenance": [],
      "toc_visible": true,
      "authorship_tag": "ABX9TyNy7za9ZSQDmNcEKB8/O9/I",
      "include_colab_link": true
    },
    "kernelspec": {
      "display_name": "Python 3",
      "name": "python3"
    },
    "language_info": {
      "name": "python"
    }
  },
  "nbformat": 4,
  "nbformat_minor": 0
}