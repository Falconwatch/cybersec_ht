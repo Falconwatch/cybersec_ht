{
  "nbformat": 4,
  "nbformat_minor": 0,
  "metadata": {
    "colab": {
      "provenance": [],
      "authorship_tag": "ABX9TyMgerMIPz+kSZjxCN/ukqEQ",
      "include_colab_link": true
    },
    "kernelspec": {
      "name": "python3",
      "display_name": "Python 3"
    },
    "language_info": {
      "name": "python"
    }
  },
  "cells": [
    {
      "cell_type": "markdown",
      "metadata": {
        "id": "view-in-github",
        "colab_type": "text"
      },
      "source": [
        "<a href=\"https://colab.research.google.com/github/Falconwatch/cybersec_ht/blob/main/Statistical_method.ipynb\" target=\"_parent\"><img src=\"https://colab.research.google.com/assets/colab-badge.svg\" alt=\"Open In Colab\"/></a>"
      ]
    },
    {
      "cell_type": "code",
      "execution_count": 80,
      "metadata": {
        "id": "78i9PWV9Na14"
      },
      "outputs": [],
      "source": [
        "import pandas as pd\n",
        "from tqdm import tqdm"
      ]
    },
    {
      "cell_type": "code",
      "source": [
        "cust_1 = pd.read_excel(\"cust_1.xlsx\")\n",
        "cust_2 = pd.read_excel(\"cust_2.xlsx\")\n",
        "examples = pd.read_excel(\"examples.xlsx\")"
      ],
      "metadata": {
        "id": "22ISYx9qNiLP"
      },
      "execution_count": 65,
      "outputs": []
    },
    {
      "cell_type": "code",
      "source": [
        "cust_1 = cust_1.rename({\"c1.country_code\":\"country_code\"}, axis=1)\n",
        "cust_2 = cust_2.rename({\"c2.country_code\":\"country_code\"}, axis=1)"
      ],
      "metadata": {
        "id": "siHIuLQYRh_T"
      },
      "execution_count": 66,
      "outputs": []
    },
    {
      "cell_type": "code",
      "source": [
        "countries = cust_1[\"country_code\"].unique()"
      ],
      "metadata": {
        "id": "Ks1mexV7WryK"
      },
      "execution_count": 68,
      "outputs": []
    },
    {
      "cell_type": "markdown",
      "source": [
        "# Соберу все возможные комбинации"
      ],
      "metadata": {
        "id": "O5OTMaYNWmDM"
      }
    },
    {
      "cell_type": "code",
      "source": [
        "country_datas = list()\n",
        "for country in countries:\n",
        "  c1 = cust_1[cust_1[\"country_code\"] == country]\n",
        "  c2 = cust_2[cust_2[\"country_code\"] == country]\n",
        "  total = c1.reset_index(drop=True).merge(c2.reset_index(drop=True),\n",
        "                                          on =[\"country_code\"])\n",
        "  country_datas.append(total)"
      ],
      "metadata": {
        "id": "tihpsvc5Qhoh"
      },
      "execution_count": 69,
      "outputs": []
    },
    {
      "cell_type": "code",
      "source": [
        "full_data = pd.concat(country_datas)\n",
        "full_data.shape"
      ],
      "metadata": {
        "colab": {
          "base_uri": "https://localhost:8080/"
        },
        "id": "xZ_EkdabNuqh",
        "outputId": "303916a6-39fb-46e8-e262-0a0c389a07fb"
      },
      "execution_count": 70,
      "outputs": [
        {
          "output_type": "execute_result",
          "data": {
            "text/plain": [
              "(5073577, 13)"
            ]
          },
          "metadata": {},
          "execution_count": 70
        }
      ]
    },
    {
      "cell_type": "code",
      "source": [
        "data = full_data.sample(100000).reset_index(drop=True)"
      ],
      "metadata": {
        "id": "An0dEpNpagw6"
      },
      "execution_count": 189,
      "outputs": []
    },
    {
      "cell_type": "markdown",
      "source": [
        "# Вычислю фичи сходства"
      ],
      "metadata": {
        "id": "K4VPDxbES1A-"
      }
    },
    {
      "cell_type": "code",
      "source": [
        "from difflib import SequenceMatcher\n",
        "def similarity_ratio_func(df, field):\n",
        "  name1 = \"c1.\"+field\n",
        "  name2 = \"c2.\"+field\n",
        "  name3 = field+\"_similarity_ratio\"\n",
        "  df[name3] = df[[name1, name2]].apply(lambda x: \n",
        "                  SequenceMatcher(None, str(x[name1]), str(x[name2])).ratio(), axis=1)"
      ],
      "metadata": {
        "id": "1RQvBygwYPis"
      },
      "execution_count": 190,
      "outputs": []
    },
    {
      "cell_type": "code",
      "source": [
        "feature_fields = [c[3:] for c in cust_1.columns[1:] if \"country\" not in c]"
      ],
      "metadata": {
        "id": "KTF1twNtVya7"
      },
      "execution_count": 191,
      "outputs": []
    },
    {
      "cell_type": "code",
      "source": [
        "for ff in tqdm(feature_fields):\n",
        "  similarity_ratio_func(data, ff)\n",
        "  similarity_ratio_func(examples, ff)"
      ],
      "metadata": {
        "colab": {
          "base_uri": "https://localhost:8080/"
        },
        "id": "sMBWSI4mZXCS",
        "outputId": "407d1e56-caaf-47f5-b7bf-194c97d5c568"
      },
      "execution_count": 192,
      "outputs": [
        {
          "output_type": "stream",
          "name": "stderr",
          "text": [
            "100%|██████████| 5/5 [00:30<00:00,  6.18s/it]\n"
          ]
        }
      ]
    },
    {
      "cell_type": "code",
      "source": [
        "features = [c for c in data.columns if \"_similarity_ratio\" in c]\n",
        "ids = [\"c1.key\", \"c2.key\"]\n",
        "features"
      ],
      "metadata": {
        "colab": {
          "base_uri": "https://localhost:8080/"
        },
        "id": "k4lz_cxkbbqj",
        "outputId": "10d6c701-adac-433f-834f-84e2eb12c088"
      },
      "execution_count": 193,
      "outputs": [
        {
          "output_type": "execute_result",
          "data": {
            "text/plain": [
              "['hotel_name_similarity_ratio',\n",
              " 'city_name_similarity_ratio',\n",
              " 'hotel_address_similarity_ratio',\n",
              " 'star_rating_similarity_ratio',\n",
              " 'postal_code_similarity_ratio']"
            ]
          },
          "metadata": {},
          "execution_count": 193
        }
      ]
    },
    {
      "cell_type": "code",
      "source": [
        "features+ids"
      ],
      "metadata": {
        "colab": {
          "base_uri": "https://localhost:8080/"
        },
        "id": "c7eeFqAGbzlO",
        "outputId": "0b61f731-96f0-4f94-939f-374f134fa147"
      },
      "execution_count": 194,
      "outputs": [
        {
          "output_type": "execute_result",
          "data": {
            "text/plain": [
              "['hotel_name_similarity_ratio',\n",
              " 'city_name_similarity_ratio',\n",
              " 'hotel_address_similarity_ratio',\n",
              " 'star_rating_similarity_ratio',\n",
              " 'postal_code_similarity_ratio',\n",
              " 'c1.key',\n",
              " 'c2.key']"
            ]
          },
          "metadata": {},
          "execution_count": 194
        }
      ]
    },
    {
      "cell_type": "code",
      "source": [],
      "metadata": {
        "id": "Fv29d-13bviR"
      },
      "execution_count": 194,
      "outputs": []
    },
    {
      "cell_type": "code",
      "source": [
        "print(data[features].mean())\n",
        "print(data[features].std())"
      ],
      "metadata": {
        "colab": {
          "base_uri": "https://localhost:8080/"
        },
        "id": "z6rOyFvNVq1r",
        "outputId": "b2a27c8f-8c60-4afc-8af0-dc4bfff8218e"
      },
      "execution_count": 195,
      "outputs": [
        {
          "output_type": "stream",
          "name": "stdout",
          "text": [
            "hotel_name_similarity_ratio       0.281211\n",
            "city_name_similarity_ratio        0.263801\n",
            "hotel_address_similarity_ratio    0.285898\n",
            "star_rating_similarity_ratio      0.707670\n",
            "postal_code_similarity_ratio      0.350644\n",
            "dtype: float64\n",
            "hotel_name_similarity_ratio       0.121158\n",
            "city_name_similarity_ratio        0.192308\n",
            "hotel_address_similarity_ratio    0.116206\n",
            "star_rating_similarity_ratio      0.190357\n",
            "postal_code_similarity_ratio      0.236312\n",
            "dtype: float64\n"
          ]
        }
      ]
    },
    {
      "cell_type": "code",
      "source": [
        "print(examples[features].mean())\n",
        "print(examples[features].std())"
      ],
      "metadata": {
        "colab": {
          "base_uri": "https://localhost:8080/"
        },
        "id": "Zu5iA9QqS3gY",
        "outputId": "4191db02-ef74-4f7d-8af8-49e533e9b26a"
      },
      "execution_count": 196,
      "outputs": [
        {
          "output_type": "stream",
          "name": "stdout",
          "text": [
            "hotel_name_similarity_ratio       0.885954\n",
            "city_name_similarity_ratio        0.725193\n",
            "hotel_address_similarity_ratio    0.748688\n",
            "star_rating_similarity_ratio      0.842407\n",
            "postal_code_similarity_ratio      0.811049\n",
            "dtype: float64\n",
            "hotel_name_similarity_ratio       0.150168\n",
            "city_name_similarity_ratio        0.336812\n",
            "hotel_address_similarity_ratio    0.225613\n",
            "star_rating_similarity_ratio      0.216638\n",
            "postal_code_similarity_ratio      0.358966\n",
            "dtype: float64\n"
          ]
        }
      ]
    },
    {
      "cell_type": "markdown",
      "source": [
        "# Статистический подход"
      ],
      "metadata": {
        "id": "vhTB03L9hL9O"
      }
    },
    {
      "cell_type": "code",
      "source": [
        "#Формируем ядро для оценки\n",
        "means = examples[features].mean().to_dict()\n",
        "stds = examples[features].std().to_dict()"
      ],
      "metadata": {
        "id": "DCPUHf7QheZr"
      },
      "execution_count": 197,
      "outputs": []
    },
    {
      "cell_type": "code",
      "source": [
        "means"
      ],
      "metadata": {
        "colab": {
          "base_uri": "https://localhost:8080/"
        },
        "id": "19zbsRw1j0d-",
        "outputId": "439ac1ac-19ed-4f18-fc57-0717d029b66d"
      },
      "execution_count": 198,
      "outputs": [
        {
          "output_type": "execute_result",
          "data": {
            "text/plain": [
              "{'hotel_name_similarity_ratio': 0.8859536083421033,\n",
              " 'city_name_similarity_ratio': 0.7251925596262868,\n",
              " 'hotel_address_similarity_ratio': 0.7486881053713478,\n",
              " 'star_rating_similarity_ratio': 0.8424068767908309,\n",
              " 'postal_code_similarity_ratio': 0.8110489188695829}"
            ]
          },
          "metadata": {},
          "execution_count": 198
        }
      ]
    },
    {
      "cell_type": "code",
      "source": [
        "def eval_one_pair(pair):\n",
        "  stats = dict()\n",
        "  for f in features:\n",
        "    stats[f] = (pair[f] - means[f])/stds[f]\n",
        "  return stats"
      ],
      "metadata": {
        "id": "NBQzfieshpRX"
      },
      "execution_count": 199,
      "outputs": []
    },
    {
      "cell_type": "code",
      "source": [
        "random_example = data.sample(1).iloc[0]\n",
        "eval_one_pair(random_example)"
      ],
      "metadata": {
        "colab": {
          "base_uri": "https://localhost:8080/"
        },
        "id": "Mr2OoCg3ixR9",
        "outputId": "f15890fd-1518-4c45-b4ba-1f18d6148f10"
      },
      "execution_count": 200,
      "outputs": [
        {
          "output_type": "execute_result",
          "data": {
            "text/plain": [
              "{'hotel_name_similarity_ratio': -4.766270346263729,\n",
              " 'city_name_similarity_ratio': -2.153110075281829,\n",
              " 'hotel_address_similarity_ratio': -2.692713114910807,\n",
              " 'star_rating_similarity_ratio': 0.7274483617320052,\n",
              " 'postal_code_similarity_ratio': -1.5629575558543929}"
            ]
          },
          "metadata": {},
          "execution_count": 200
        }
      ]
    },
    {
      "cell_type": "code",
      "source": [
        "good_example = examples.sample(1).iloc[0]\n",
        "eval_one_pair(good_example)"
      ],
      "metadata": {
        "colab": {
          "base_uri": "https://localhost:8080/"
        },
        "id": "ViwhDQxGhQbY",
        "outputId": "ee2421a1-597e-413e-daa6-155fd94b217e"
      },
      "execution_count": 201,
      "outputs": [
        {
          "output_type": "execute_result",
          "data": {
            "text/plain": [
              "{'hotel_name_similarity_ratio': 0.7594591540233512,\n",
              " 'city_name_similarity_ratio': 0.2660901274488256,\n",
              " 'hotel_address_similarity_ratio': 1.1139059663297592,\n",
              " 'star_rating_similarity_ratio': 0.7274483617320052,\n",
              " 'postal_code_similarity_ratio': 0.5263757045190748}"
            ]
          },
          "metadata": {},
          "execution_count": 201
        }
      ]
    },
    {
      "cell_type": "markdown",
      "source": [
        "# Посмотрим распределение отклонений"
      ],
      "metadata": {
        "id": "pR4QKnu2kV85"
      }
    },
    {
      "cell_type": "code",
      "source": [
        "examples_dist = pd.DataFrame(list(examples.apply(eval_one_pair, axis=1).values))\n",
        "#examples_dist.head()\n",
        "examples_dist.plot(kind='kde', figsize=[15,10])"
      ],
      "metadata": {
        "colab": {
          "base_uri": "https://localhost:8080/",
          "height": 612
        },
        "id": "wIFsW0Yckajc",
        "outputId": "41f938f7-ebbb-4656-a916-5160cd4b6739"
      },
      "execution_count": 202,
      "outputs": [
        {
          "output_type": "execute_result",
          "data": {
            "text/plain": [
              "<matplotlib.axes._subplots.AxesSubplot at 0x7f60ce00a8e0>"
            ]
          },
          "metadata": {},
          "execution_count": 202
        },
        {
          "output_type": "display_data",
          "data": {
            "text/plain": [
              "<Figure size 1080x720 with 1 Axes>"
            ],
            "image/png": "[encoded data removed]"
          },
          "metadata": {
            "needs_background": "light"
          }
        }
      ]
    },
    {
      "cell_type": "code",
      "source": [
        "data_dist = pd.DataFrame(list(data.apply(eval_one_pair, axis=1).values))\n",
        "#examples_dist.head()\n",
        "data_dist.plot(kind='kde', figsize=[15,10])"
      ],
      "metadata": {
        "colab": {
          "base_uri": "https://localhost:8080/",
          "height": 609
        },
        "id": "1osqeBIgU1vR",
        "outputId": "04674fa4-6300-45e3-efb0-44299f766466"
      },
      "execution_count": 203,
      "outputs": [
        {
          "output_type": "execute_result",
          "data": {
            "text/plain": [
              "<matplotlib.axes._subplots.AxesSubplot at 0x7f60cc8b12e0>"
            ]
          },
          "metadata": {},
          "execution_count": 203
        },
        {
          "output_type": "display_data",
          "data": {
            "text/plain": [
              "<Figure size 1080x720 with 1 Axes>"
            ],
            "image/png": "[encoded data removed]"
          },
          "metadata": {
            "needs_background": "light"
          }
        }
      ]
    },
    {
      "cell_type": "code",
      "source": [
        "examples_dist[\"dataset\"] = \"examples\"\n",
        "examples_dist.shape"
      ],
      "metadata": {
        "colab": {
          "base_uri": "https://localhost:8080/"
        },
        "id": "8B8XdSeklvlj",
        "outputId": "7b0c53f2-55ca-49de-a2d7-3101fe36d440"
      },
      "execution_count": 204,
      "outputs": [
        {
          "output_type": "execute_result",
          "data": {
            "text/plain": [
              "(349, 6)"
            ]
          },
          "metadata": {},
          "execution_count": 204
        }
      ]
    },
    {
      "cell_type": "code",
      "source": [
        "data_dist[\"dataset\"] = \"data\"\n",
        "data_dist.shape"
      ],
      "metadata": {
        "colab": {
          "base_uri": "https://localhost:8080/"
        },
        "id": "kol8y_REmdd9",
        "outputId": "ef6c19f3-b7bb-40c2-d74c-f7199646afb2"
      },
      "execution_count": 205,
      "outputs": [
        {
          "output_type": "execute_result",
          "data": {
            "text/plain": [
              "(100000, 6)"
            ]
          },
          "metadata": {},
          "execution_count": 205
        }
      ]
    },
    {
      "cell_type": "code",
      "source": [
        "all_data_dist = pd.concat([examples_dist, data_dist]).reset_index(drop=True)"
      ],
      "metadata": {
        "id": "oZLTz47emfCn"
      },
      "execution_count": 206,
      "outputs": []
    },
    {
      "cell_type": "code",
      "source": [
        "all_data_dist.groupby('dataset')['hotel_name_similarity_ratio'].plot(kind='kde')\n",
        "print(examples_dist[\"hotel_name_similarity_ratio\"].quantile(0.01))"
      ],
      "metadata": {
        "colab": {
          "base_uri": "https://localhost:8080/",
          "height": 282
        },
        "id": "WDjxt8fOm6vT",
        "outputId": "eaa444e6-cd63-4d90-b3d2-17ea57fed2cf"
      },
      "execution_count": 220,
      "outputs": [
        {
          "output_type": "stream",
          "name": "stdout",
          "text": [
            "-3.2745437806534654\n"
          ]
        },
        {
          "output_type": "display_data",
          "data": {
            "text/plain": [
              "<Figure size 432x288 with 1 Axes>"
            ],
            "image/png": "[encoded data removed]"
          },
          "metadata": {
            "needs_background": "light"
          }
        }
      ]
    },
    {
      "cell_type": "code",
      "source": [
        "all_data_dist.groupby('dataset')['city_name_similarity_ratio'].plot(kind='kde')\n",
        "print(examples_dist[\"city_name_similarity_ratio\"].quantile(0.01))"
      ],
      "metadata": {
        "colab": {
          "base_uri": "https://localhost:8080/",
          "height": 282
        },
        "id": "klefQ56unNGO",
        "outputId": "7f3f68df-2afc-4caa-d0a6-abdc103e9b56"
      },
      "execution_count": 221,
      "outputs": [
        {
          "output_type": "stream",
          "name": "stdout",
          "text": [
            "-2.153110075281829\n"
          ]
        },
        {
          "output_type": "display_data",
          "data": {
            "text/plain": [
              "<Figure size 432x288 with 1 Axes>"
            ],
            "image/png": "[encoded data removed]"
          },
          "metadata": {
            "needs_background": "light"
          }
        }
      ]
    },
    {
      "cell_type": "code",
      "source": [
        "all_data_dist.groupby('dataset')['hotel_address_similarity_ratio'].plot(kind='kde')\n",
        "print(examples_dist[\"hotel_address_similarity_ratio\"].quantile(0.01))"
      ],
      "metadata": {
        "colab": {
          "base_uri": "https://localhost:8080/",
          "height": 282
        },
        "id": "zy5s4onynaJR",
        "outputId": "ee82e49e-dd73-4d66-cd6e-e1a56b151205"
      },
      "execution_count": 222,
      "outputs": [
        {
          "output_type": "stream",
          "name": "stdout",
          "text": [
            "-2.3532193314977254\n"
          ]
        },
        {
          "output_type": "display_data",
          "data": {
            "text/plain": [
              "<Figure size 432x288 with 1 Axes>"
            ],
            "image/png": "[encoded data removed]"
          },
          "metadata": {
            "needs_background": "light"
          }
        }
      ]
    },
    {
      "cell_type": "code",
      "source": [
        "all_data_dist.groupby('dataset')['star_rating_similarity_ratio'].plot(kind='kde')\n",
        "print(examples_dist[\"star_rating_similarity_ratio\"].quantile(0.01))"
      ],
      "metadata": {
        "colab": {
          "base_uri": "https://localhost:8080/",
          "height": 282
        },
        "id": "WOeZ0pwcnebV",
        "outputId": "e9e732b2-2f71-4a03-b81a-ad00b1ae119f"
      },
      "execution_count": 223,
      "outputs": [
        {
          "output_type": "stream",
          "name": "stdout",
          "text": [
            "-2.3498786472918707\n"
          ]
        },
        {
          "output_type": "display_data",
          "data": {
            "text/plain": [
              "<Figure size 432x288 with 1 Axes>"
            ],
            "image/png": "[encoded data removed]"
          },
          "metadata": {
            "needs_background": "light"
          }
        }
      ]
    },
    {
      "cell_type": "code",
      "source": [
        "all_data_dist.groupby('dataset')['postal_code_similarity_ratio'].plot(kind='kde')\n",
        "print(examples_dist[\"postal_code_similarity_ratio\"].quantile(0.01))"
      ],
      "metadata": {
        "colab": {
          "base_uri": "https://localhost:8080/",
          "height": 283
        },
        "id": "UsDSR2ppnkVo",
        "outputId": "4b8b953b-b032-4a90-d75e-bf2fdb7070d1"
      },
      "execution_count": 224,
      "outputs": [
        {
          "output_type": "stream",
          "name": "stdout",
          "text": [
            "-2.259401975978882\n"
          ]
        },
        {
          "output_type": "display_data",
          "data": {
            "text/plain": [
              "<Figure size 432x288 with 1 Axes>"
            ],
            "image/png": "[encoded data removed]"
          },
          "metadata": {
            "needs_background": "light"
          }
        }
      ]
    },
    {
      "cell_type": "code",
      "source": [
        "features"
      ],
      "metadata": {
        "colab": {
          "base_uri": "https://localhost:8080/"
        },
        "id": "mpJ_e89smju4",
        "outputId": "32162555-cd75-4f30-f4eb-3e101277744f"
      },
      "execution_count": 212,
      "outputs": [
        {
          "output_type": "execute_result",
          "data": {
            "text/plain": [
              "['hotel_name_similarity_ratio',\n",
              " 'city_name_similarity_ratio',\n",
              " 'hotel_address_similarity_ratio',\n",
              " 'star_rating_similarity_ratio',\n",
              " 'postal_code_similarity_ratio']"
            ]
          },
          "metadata": {},
          "execution_count": 212
        }
      ]
    },
    {
      "cell_type": "markdown",
      "source": [
        "## Посомтрим на перцентили распределения в примерах"
      ],
      "metadata": {
        "id": "DV6OcKlPqhAw"
      }
    },
    {
      "cell_type": "code",
      "source": [
        "examples_dist[\"postal_code_similarity_ratio\"].quantile(0.5)"
      ],
      "metadata": {
        "colab": {
          "base_uri": "https://localhost:8080/"
        },
        "id": "Xb82nLjGqrgb",
        "outputId": "8995e3f8-4e70-49c4-a780-6ffade8bf87e"
      },
      "execution_count": 217,
      "outputs": [
        {
          "output_type": "execute_result",
          "data": {
            "text/plain": [
              "0.5263757045190748"
            ]
          },
          "metadata": {},
          "execution_count": 217
        }
      ]
    },
    {
      "cell_type": "code",
      "source": [
        "all_data_dist\n"
      ],
      "metadata": {
        "id": "2MAhaXINqjKg"
      },
      "execution_count": 215,
      "outputs": []
    },
    {
      "cell_type": "code",
      "source": [
        "all_data_dist.groupby('dataset')['postal_code_similarity_ratio'].plot(kind='kde')"
      ],
      "metadata": {
        "id": "vj_-QUdTqlY2"
      },
      "execution_count": null,
      "outputs": []
    },
    {
      "cell_type": "markdown",
      "source": [
        "## Посмотрю глазами на отдельные кейсы"
      ],
      "metadata": {
        "id": "QUkwemqqoOpe"
      }
    },
    {
      "cell_type": "code",
      "source": [
        "data_dist.shape"
      ],
      "metadata": {
        "colab": {
          "base_uri": "https://localhost:8080/"
        },
        "id": "f_nen41Co9o1",
        "outputId": "f8a614f1-9b43-47d9-d086-07eb819c1907"
      },
      "execution_count": 184,
      "outputs": [
        {
          "output_type": "execute_result",
          "data": {
            "text/plain": [
              "(100000, 6)"
            ]
          },
          "metadata": {},
          "execution_count": 184
        }
      ]
    },
    {
      "cell_type": "code",
      "source": [
        "data.shape"
      ],
      "metadata": {
        "colab": {
          "base_uri": "https://localhost:8080/"
        },
        "id": "IxPZPVQIo-r6",
        "outputId": "ba36ad8b-56a9-4ce0-8dbb-578ed7e41db2"
      },
      "execution_count": 185,
      "outputs": [
        {
          "output_type": "execute_result",
          "data": {
            "text/plain": [
              "(100000, 18)"
            ]
          },
          "metadata": {},
          "execution_count": 185
        }
      ]
    },
    {
      "cell_type": "code",
      "source": [
        "(data_dist[\"hotel_name_similarity_ratio\"]>0).mean()"
      ],
      "metadata": {
        "colab": {
          "base_uri": "https://localhost:8080/"
        },
        "id": "2B0yl-jFpEnX",
        "outputId": "75e191b5-1543-4c57-f35e-7fcfdd6d3f31"
      },
      "execution_count": 187,
      "outputs": [
        {
          "output_type": "execute_result",
          "data": {
            "text/plain": [
              "0.00141"
            ]
          },
          "metadata": {},
          "execution_count": 187
        }
      ]
    },
    {
      "cell_type": "code",
      "source": [
        "data"
      ],
      "metadata": {
        "colab": {
          "base_uri": "https://localhost:8080/",
          "height": 789
        },
        "id": "VlSy_ZZCpJvR",
        "outputId": "06967f7a-03bc-4796-ae83-dd4383270e7e"
      },
      "execution_count": 188,
      "outputs": [
        {
          "output_type": "execute_result",
          "data": {
            "text/plain": [
              "                                  c1.key  \\\n",
              "318839  80AEE7152500CAC10F05BD1A0AE3A791   \n",
              "764985  2FE2186DA00DFAA4BB4829CD7655EA0D   \n",
              "22078   312E3E568C342818F387FB2989469B25   \n",
              "869952  D4A634D64D52C558DF3F1AC57941DD38   \n",
              "435424  84BCF7453EA1257D8FA507AD894F1249   \n",
              "...                                  ...   \n",
              "121450  71E7AAABDC8FD9334C2612AC54131612   \n",
              "602260  BB6D3E937DAABDEBE7F048494EE0D8D6   \n",
              "48019   14298AA0D72EE61295A223586F8A8549   \n",
              "868407  3CCD65979197E060C41A39A512800305   \n",
              "738430  46780A959CAB414CDEAC02EF3C99A491   \n",
              "\n",
              "                                          c1.hotel_name       c1.city_name  \\\n",
              "318839                               Lynt Hotel Jakarta            Jakarta   \n",
              "764985                    Best Western PLUS Madison Inn       Madison (FL)   \n",
              "22078                   Gooding's Groves Olive Farm B&B        Franschhoek   \n",
              "869952                                         Ploenlay              Krabi   \n",
              "435424                       Karon Hotel - Lajpat Nagar  New Delhi and NCR   \n",
              "...                                                 ...                ...   \n",
              "121450  7 Days Inn Jinan Da Ming Lake North Gate Branch              Jinan   \n",
              "602260                  Elara by Hilton Grand Vacations     Las Vegas (NV)   \n",
              "48019                              Acaill Accommodation           Adelaide   \n",
              "868407     Hilton San Diego Airport Harbor Island Hotel     San Diego (CA)   \n",
              "738430                   Wealthy All Suite Hotel Suzhou             Suzhou   \n",
              "\n",
              "       country_code                                   c1.hotel_address  \\\n",
              "318839           ID                           Jalan Cideng Timur No 35   \n",
              "764985           US                               167 SE Bandit Street   \n",
              "22078            ZA  R45/Main Road, La Motte/Goederust, Franschhoek...   \n",
              "869952           TH                         199/42 Aonang Soi 8, Moo 3   \n",
              "435424           IN                       61 Ring Road, Lajpat Nagar-3   \n",
              "...             ...                                                ...   \n",
              "121450           CN                           No.5,Bei Guan North Road   \n",
              "602260           US                               80 East Harmon Drive   \n",
              "48019            AU                1/22 North Esplanade, Glenelg North   \n",
              "868407           US                           1960 Harbor Island Drive   \n",
              "738430           CN                                 No.88 Shishan Road   \n",
              "\n",
              "        c1.star_rating c1.postal_code                            c2.key  \\\n",
              "318839             3.0          10130  C2D930F1DE1FA9D785218A1E64B8F0E8   \n",
              "764985             2.0     32340-5916  AA2D58C37BDA289615D587309274D2EA   \n",
              "22078              4.0           7690  15F23417B01AB7B1B598161A391C2865   \n",
              "869952             2.0          81000  739E64478E5696A217DB017C1BA552FB   \n",
              "435424             3.5         110024  17B1E146C8EBE6A8E4BDB4D8B3687647   \n",
              "...                ...            ...                               ...   \n",
              "121450             2.0            NaN  4A8FE936563CEE5D88578923D9A7B028   \n",
              "602260             4.0          89109  7ED126119E65E99B07E83A73B5C0CB10   \n",
              "48019              4.0           5045  77C561FED0FBEC92643EF18E304DE03C   \n",
              "868407             3.0          92101  DCC70A9DE639EAA21961C64ECE3620CB   \n",
              "738430             5.0         215011  D316E5F86B52283E1129DF79DEE29411   \n",
              "\n",
              "                          c2.hotel_name  c2.city_name  \\\n",
              "318839     RedDoorz @ Tibubeneng Canggu        Canggu   \n",
              "764985           Best Western Roseville     Roseville   \n",
              "22078             Pongola Country Lodge       Pongola   \n",
              "869952                   Sun Hill Hotel  Patong Beach   \n",
              "435424                     The Terraces        Chamba   \n",
              "...                                 ...           ...   \n",
              "121450                 Easy Inn Lianyue        Xiamen   \n",
              "602260  Quality Inn near Mountain Creek        Vernon   \n",
              "48019                     Macleay Hotel        Sydney   \n",
              "868407             Econo Lodge Escanaba      Escanaba   \n",
              "738430                      Royal Hotel   Zhangjiajie   \n",
              "\n",
              "                                         c2.hotel_address  c2.star_rating  \\\n",
              "318839                Jl. Bantan Kangin Gg. Grandpa No. 3             2.0   \n",
              "764985                              220 Harding Boulevard             2.0   \n",
              "22078                                14 Jan Mielie Street             0.0   \n",
              "869952                    245/2 Nanai Road, Kathu, Phuket             3.0   \n",
              "435424  Kanatal, Chamba Mussorrie Highway, Tehri Garwala,             0.0   \n",
              "...                                                   ...             ...   \n",
              "121450                                No. 14 Lianyue Road             3.0   \n",
              "602260                                        15 Route 94             2.0   \n",
              "48019                      28 Macleay Street, Potts Point             3.5   \n",
              "868407                             921 North Lincoln Road             2.0   \n",
              "738430                           Tuofeng Road, Wulingyuan             4.0   \n",
              "\n",
              "       c2.postal_code  hotel_name_similarity_ratio  \\\n",
              "318839          80361                     0.130435   \n",
              "764985          95678                     0.549020   \n",
              "22078            3170                     0.192308   \n",
              "869952          83150                     0.363636   \n",
              "435424         249145                     0.105263   \n",
              "...               ...                          ...   \n",
              "121450         361000                     0.349206   \n",
              "602260           7462                     0.258065   \n",
              "48019            2011                     0.181818   \n",
              "868407          49829                     0.250000   \n",
              "738430         427200                     0.390244   \n",
              "\n",
              "        city_name_similarity_ratio  hotel_address_similarity_ratio  \\\n",
              "318839                    0.153846                        0.474576   \n",
              "764985                    0.095238                        0.243902   \n",
              "22078                     0.111111                        0.191304   \n",
              "869952                    0.117647                        0.350877   \n",
              "435424                    0.173913                        0.259740   \n",
              "...                            ...                             ...   \n",
              "121450                    0.363636                        0.511628   \n",
              "602260                    0.200000                        0.193548   \n",
              "48019                     0.285714                        0.246154   \n",
              "868407                    0.181818                        0.347826   \n",
              "738430                    0.117647                        0.333333   \n",
              "\n",
              "        star_rating_similarity_ratio  postal_code_similarity_ratio  \n",
              "318839                      0.666667                      0.200000  \n",
              "764985                      1.000000                      0.266667  \n",
              "22078                       0.666667                      0.500000  \n",
              "869952                      0.666667                      0.600000  \n",
              "435424                      0.333333                      0.333333  \n",
              "...                              ...                           ...  \n",
              "121450                      0.666667                      0.000000  \n",
              "602260                      0.666667                      0.000000  \n",
              "48019                       0.333333                      0.250000  \n",
              "868407                      0.666667                      0.400000  \n",
              "738430                      0.666667                      0.333333  \n",
              "\n",
              "[100000 rows x 18 columns]"
            ],
            "text/html": [
              "\n",
              "  <div id=\"df-e9195b74-e454-452c-af07-3caa9e88fd9b\">\n",
              "    <div class=\"colab-df-container\">\n",
              "      <div>\n",
              "<style scoped>\n",
              "    .dataframe tbody tr th:only-of-type {\n",
              "        vertical-align: middle;\n",
              "    }\n",
              "\n",
              "    .dataframe tbody tr th {\n",
              "        vertical-align: top;\n",
              "    }\n",
              "\n",
              "    .dataframe thead th {\n",
              "        text-align: right;\n",
              "    }\n",
              "</style>\n",
              "<table border=\"1\" class=\"dataframe\">\n",
              "  <thead>\n",
              "    <tr style=\"text-align: right;\">\n",
              "      <th></th>\n",
              "      <th>c1.key</th>\n",
              "      <th>c1.hotel_name</th>\n",
              "      <th>c1.city_name</th>\n",
              "      <th>country_code</th>\n",
              "      <th>c1.hotel_address</th>\n",
              "      <th>c1.star_rating</th>\n",
              "      <th>c1.postal_code</th>\n",
              "      <th>c2.key</th>\n",
              "      <th>c2.hotel_name</th>\n",
              "      <th>c2.city_name</th>\n",
              "      <th>c2.hotel_address</th>\n",
              "      <th>c2.star_rating</th>\n",
              "      <th>c2.postal_code</th>\n",
              "      <th>hotel_name_similarity_ratio</th>\n",
              "      <th>city_name_similarity_ratio</th>\n",
              "      <th>hotel_address_similarity_ratio</th>\n",
              "      <th>star_rating_similarity_ratio</th>\n",
              "      <th>postal_code_similarity_ratio</th>\n",
              "    </tr>\n",
              "  </thead>\n",
              "  <tbody>\n",
              "    <tr>\n",
              "      <th>318839</th>\n",
              "      <td>80AEE7152500CAC10F05BD1A0AE3A791</td>\n",
              "      <td>Lynt Hotel Jakarta</td>\n",
              "      <td>Jakarta</td>\n",
              "      <td>ID</td>\n",
              "      <td>Jalan Cideng Timur No 35</td>\n",
              "      <td>3.0</td>\n",
              "      <td>10130</td>\n",
              "      <td>C2D930F1DE1FA9D785218A1E64B8F0E8</td>\n",
              "      <td>RedDoorz @ Tibubeneng Canggu</td>\n",
              "      <td>Canggu</td>\n",
              "      <td>Jl. Bantan Kangin Gg. Grandpa No. 3</td>\n",
              "      <td>2.0</td>\n",
              "      <td>80361</td>\n",
              "      <td>0.130435</td>\n",
              "      <td>0.153846</td>\n",
              "      <td>0.474576</td>\n",
              "      <td>0.666667</td>\n",
              "      <td>0.200000</td>\n",
              "    </tr>\n",
              "    <tr>\n",
              "      <th>764985</th>\n",
              "      <td>2FE2186DA00DFAA4BB4829CD7655EA0D</td>\n",
              "      <td>Best Western PLUS Madison Inn</td>\n",
              "      <td>Madison (FL)</td>\n",
              "      <td>US</td>\n",
              "      <td>167 SE Bandit Street</td>\n",
              "      <td>2.0</td>\n",
              "      <td>32340-5916</td>\n",
              "      <td>AA2D58C37BDA289615D587309274D2EA</td>\n",
              "      <td>Best Western Roseville</td>\n",
              "      <td>Roseville</td>\n",
              "      <td>220 Harding Boulevard</td>\n",
              "      <td>2.0</td>\n",
              "      <td>95678</td>\n",
              "      <td>0.549020</td>\n",
              "      <td>0.095238</td>\n",
              "      <td>0.243902</td>\n",
              "      <td>1.000000</td>\n",
              "      <td>0.266667</td>\n",
              "    </tr>\n",
              "    <tr>\n",
              "      <th>22078</th>\n",
              "      <td>312E3E568C342818F387FB2989469B25</td>\n",
              "      <td>Gooding's Groves Olive Farm B&amp;B</td>\n",
              "      <td>Franschhoek</td>\n",
              "      <td>ZA</td>\n",
              "      <td>R45/Main Road, La Motte/Goederust, Franschhoek...</td>\n",
              "      <td>4.0</td>\n",
              "      <td>7690</td>\n",
              "      <td>15F23417B01AB7B1B598161A391C2865</td>\n",
              "      <td>Pongola Country Lodge</td>\n",
              "      <td>Pongola</td>\n",
              "      <td>14 Jan Mielie Street</td>\n",
              "      <td>0.0</td>\n",
              "      <td>3170</td>\n",
              "      <td>0.192308</td>\n",
              "      <td>0.111111</td>\n",
              "      <td>0.191304</td>\n",
              "      <td>0.666667</td>\n",
              "      <td>0.500000</td>\n",
              "    </tr>\n",
              "    <tr>\n",
              "      <th>869952</th>\n",
              "      <td>D4A634D64D52C558DF3F1AC57941DD38</td>\n",
              "      <td>Ploenlay</td>\n",
              "      <td>Krabi</td>\n",
              "      <td>TH</td>\n",
              "      <td>199/42 Aonang Soi 8, Moo 3</td>\n",
              "      <td>2.0</td>\n",
              "      <td>81000</td>\n",
              "      <td>739E64478E5696A217DB017C1BA552FB</td>\n",
              "      <td>Sun Hill Hotel</td>\n",
              "      <td>Patong Beach</td>\n",
              "      <td>245/2 Nanai Road, Kathu, Phuket</td>\n",
              "      <td>3.0</td>\n",
              "      <td>83150</td>\n",
              "      <td>0.363636</td>\n",
              "      <td>0.117647</td>\n",
              "      <td>0.350877</td>\n",
              "      <td>0.666667</td>\n",
              "      <td>0.600000</td>\n",
              "    </tr>\n",
              "    <tr>\n",
              "      <th>435424</th>\n",
              "      <td>84BCF7453EA1257D8FA507AD894F1249</td>\n",
              "      <td>Karon Hotel - Lajpat Nagar</td>\n",
              "      <td>New Delhi and NCR</td>\n",
              "      <td>IN</td>\n",
              "      <td>61 Ring Road, Lajpat Nagar-3</td>\n",
              "      <td>3.5</td>\n",
              "      <td>110024</td>\n",
              "      <td>17B1E146C8EBE6A8E4BDB4D8B3687647</td>\n",
              "      <td>The Terraces</td>\n",
              "      <td>Chamba</td>\n",
              "      <td>Kanatal, Chamba Mussorrie Highway, Tehri Garwala,</td>\n",
              "      <td>0.0</td>\n",
              "      <td>249145</td>\n",
              "      <td>0.105263</td>\n",
              "      <td>0.173913</td>\n",
              "      <td>0.259740</td>\n",
              "      <td>0.333333</td>\n",
              "      <td>0.333333</td>\n",
              "    </tr>\n",
              "    <tr>\n",
              "      <th>...</th>\n",
              "      <td>...</td>\n",
              "      <td>...</td>\n",
              "      <td>...</td>\n",
              "      <td>...</td>\n",
              "      <td>...</td>\n",
              "      <td>...</td>\n",
              "      <td>...</td>\n",
              "      <td>...</td>\n",
              "      <td>...</td>\n",
              "      <td>...</td>\n",
              "      <td>...</td>\n",
              "      <td>...</td>\n",
              "      <td>...</td>\n",
              "      <td>...</td>\n",
              "      <td>...</td>\n",
              "      <td>...</td>\n",
              "      <td>...</td>\n",
              "      <td>...</td>\n",
              "    </tr>\n",
              "    <tr>\n",
              "      <th>121450</th>\n",
              "      <td>71E7AAABDC8FD9334C2612AC54131612</td>\n",
              "      <td>7 Days Inn Jinan Da Ming Lake North Gate Branch</td>\n",
              "      <td>Jinan</td>\n",
              "      <td>CN</td>\n",
              "      <td>No.5,Bei Guan North Road</td>\n",
              "      <td>2.0</td>\n",
              "      <td>NaN</td>\n",
              "      <td>4A8FE936563CEE5D88578923D9A7B028</td>\n",
              "      <td>Easy Inn Lianyue</td>\n",
              "      <td>Xiamen</td>\n",
              "      <td>No. 14 Lianyue Road</td>\n",
              "      <td>3.0</td>\n",
              "      <td>361000</td>\n",
              "      <td>0.349206</td>\n",
              "      <td>0.363636</td>\n",
              "      <td>0.511628</td>\n",
              "      <td>0.666667</td>\n",
              "      <td>0.000000</td>\n",
              "    </tr>\n",
              "    <tr>\n",
              "      <th>602260</th>\n",
              "      <td>BB6D3E937DAABDEBE7F048494EE0D8D6</td>\n",
              "      <td>Elara by Hilton Grand Vacations</td>\n",
              "      <td>Las Vegas (NV)</td>\n",
              "      <td>US</td>\n",
              "      <td>80 East Harmon Drive</td>\n",
              "      <td>4.0</td>\n",
              "      <td>89109</td>\n",
              "      <td>7ED126119E65E99B07E83A73B5C0CB10</td>\n",
              "      <td>Quality Inn near Mountain Creek</td>\n",
              "      <td>Vernon</td>\n",
              "      <td>15 Route 94</td>\n",
              "      <td>2.0</td>\n",
              "      <td>7462</td>\n",
              "      <td>0.258065</td>\n",
              "      <td>0.200000</td>\n",
              "      <td>0.193548</td>\n",
              "      <td>0.666667</td>\n",
              "      <td>0.000000</td>\n",
              "    </tr>\n",
              "    <tr>\n",
              "      <th>48019</th>\n",
              "      <td>14298AA0D72EE61295A223586F8A8549</td>\n",
              "      <td>Acaill Accommodation</td>\n",
              "      <td>Adelaide</td>\n",
              "      <td>AU</td>\n",
              "      <td>1/22 North Esplanade, Glenelg North</td>\n",
              "      <td>4.0</td>\n",
              "      <td>5045</td>\n",
              "      <td>77C561FED0FBEC92643EF18E304DE03C</td>\n",
              "      <td>Macleay Hotel</td>\n",
              "      <td>Sydney</td>\n",
              "      <td>28 Macleay Street, Potts Point</td>\n",
              "      <td>3.5</td>\n",
              "      <td>2011</td>\n",
              "      <td>0.181818</td>\n",
              "      <td>0.285714</td>\n",
              "      <td>0.246154</td>\n",
              "      <td>0.333333</td>\n",
              "      <td>0.250000</td>\n",
              "    </tr>\n",
              "    <tr>\n",
              "      <th>868407</th>\n",
              "      <td>3CCD65979197E060C41A39A512800305</td>\n",
              "      <td>Hilton San Diego Airport Harbor Island Hotel</td>\n",
              "      <td>San Diego (CA)</td>\n",
              "      <td>US</td>\n",
              "      <td>1960 Harbor Island Drive</td>\n",
              "      <td>3.0</td>\n",
              "      <td>92101</td>\n",
              "      <td>DCC70A9DE639EAA21961C64ECE3620CB</td>\n",
              "      <td>Econo Lodge Escanaba</td>\n",
              "      <td>Escanaba</td>\n",
              "      <td>921 North Lincoln Road</td>\n",
              "      <td>2.0</td>\n",
              "      <td>49829</td>\n",
              "      <td>0.250000</td>\n",
              "      <td>0.181818</td>\n",
              "      <td>0.347826</td>\n",
              "      <td>0.666667</td>\n",
              "      <td>0.400000</td>\n",
              "    </tr>\n",
              "    <tr>\n",
              "      <th>738430</th>\n",
              "      <td>46780A959CAB414CDEAC02EF3C99A491</td>\n",
              "      <td>Wealthy All Suite Hotel Suzhou</td>\n",
              "      <td>Suzhou</td>\n",
              "      <td>CN</td>\n",
              "      <td>No.88 Shishan Road</td>\n",
              "      <td>5.0</td>\n",
              "      <td>215011</td>\n",
              "      <td>D316E5F86B52283E1129DF79DEE29411</td>\n",
              "      <td>Royal Hotel</td>\n",
              "      <td>Zhangjiajie</td>\n",
              "      <td>Tuofeng Road, Wulingyuan</td>\n",
              "      <td>4.0</td>\n",
              "      <td>427200</td>\n",
              "      <td>0.390244</td>\n",
              "      <td>0.117647</td>\n",
              "      <td>0.333333</td>\n",
              "      <td>0.666667</td>\n",
              "      <td>0.333333</td>\n",
              "    </tr>\n",
              "  </tbody>\n",
              "</table>\n",
              "<p>100000 rows × 18 columns</p>\n",
              "</div>\n",
              "      <button class=\"colab-df-convert\" onclick=\"convertToInteractive('df-e9195b74-e454-452c-af07-3caa9e88fd9b')\"\n",
              "              title=\"Convert this dataframe to an interactive table.\"\n",
              "              style=\"display:none;\">\n",
              "        \n",
              "  <svg xmlns=\"http://www.w3.org/2000/svg\" height=\"24px\"viewBox=\"0 0 24 24\"\n",
              "       width=\"24px\">\n",
              "    <path d=\"M0 0h24v24H0V0z\" fill=\"none\"/>\n",
              "    <path d=\"M18.56 5.44l.94 2.06.94-2.06 2.06-.94-2.06-.94-.94-2.06-.94 2.06-2.06.94zm-11 1L8.5 8.5l.94-2.06 2.06-.94-2.06-.94L8.5 2.5l-.94 2.06-2.06.94zm10 10l.94 2.06.94-2.06 2.06-.94-2.06-.94-.94-2.06-.94 2.06-2.06.94z\"/><path d=\"M17.41 7.96l-1.37-1.37c-.4-.4-.92-.59-1.43-.59-.52 0-1.04.2-1.43.59L10.3 9.45l-7.72 7.72c-.78.78-.78 2.05 0 2.83L4 21.41c.39.39.9.59 1.41.59.51 0 1.02-.2 1.41-.59l7.78-7.78 2.81-2.81c.8-.78.8-2.07 0-2.86zM5.41 20L4 18.59l7.72-7.72 1.47 1.35L5.41 20z\"/>\n",
              "  </svg>\n",
              "      </button>\n",
              "      \n",
              "  <style>\n",
              "    .colab-df-container {\n",
              "      display:flex;\n",
              "      flex-wrap:wrap;\n",
              "      gap: 12px;\n",
              "    }\n",
              "\n",
              "    .colab-df-convert {\n",
              "      background-color: #E8F0FE;\n",
              "      border: none;\n",
              "      border-radius: 50%;\n",
              "      cursor: pointer;\n",
              "      display: none;\n",
              "      fill: #1967D2;\n",
              "      height: 32px;\n",
              "      padding: 0 0 0 0;\n",
              "      width: 32px;\n",
              "    }\n",
              "\n",
              "    .colab-df-convert:hover {\n",
              "      background-color: #E2EBFA;\n",
              "      box-shadow: 0px 1px 2px rgba(60, 64, 67, 0.3), 0px 1px 3px 1px rgba(60, 64, 67, 0.15);\n",
              "      fill: #174EA6;\n",
              "    }\n",
              "\n",
              "    [theme=dark] .colab-df-convert {\n",
              "      background-color: #3B4455;\n",
              "      fill: #D2E3FC;\n",
              "    }\n",
              "\n",
              "    [theme=dark] .colab-df-convert:hover {\n",
              "      background-color: #434B5C;\n",
              "      box-shadow: 0px 1px 3px 1px rgba(0, 0, 0, 0.15);\n",
              "      filter: drop-shadow(0px 1px 2px rgba(0, 0, 0, 0.3));\n",
              "      fill: #FFFFFF;\n",
              "    }\n",
              "  </style>\n",
              "\n",
              "      <script>\n",
              "        const buttonEl =\n",
              "          document.querySelector('#df-e9195b74-e454-452c-af07-3caa9e88fd9b button.colab-df-convert');\n",
              "        buttonEl.style.display =\n",
              "          google.colab.kernel.accessAllowed ? 'block' : 'none';\n",
              "\n",
              "        async function convertToInteractive(key) {\n",
              "          const element = document.querySelector('#df-e9195b74-e454-452c-af07-3caa9e88fd9b');\n",
              "          const dataTable =\n",
              "            await google.colab.kernel.invokeFunction('convertToInteractive',\n",
              "                                                     [key], {});\n",
              "          if (!dataTable) return;\n",
              "\n",
              "          const docLinkHtml = 'Like what you see? Visit the ' +\n",
              "            '<a target=\"_blank\" href=https://colab.research.google.com/notebooks/data_table.ipynb>data table notebook</a>'\n",
              "            + ' to learn more about interactive tables.';\n",
              "          element.innerHTML = '';\n",
              "          dataTable['output_type'] = 'display_data';\n",
              "          await google.colab.output.renderOutput(dataTable, element);\n",
              "          const docLink = document.createElement('div');\n",
              "          docLink.innerHTML = docLinkHtml;\n",
              "          element.appendChild(docLink);\n",
              "        }\n",
              "      </script>\n",
              "    </div>\n",
              "  </div>\n",
              "  "
            ]
          },
          "metadata": {},
          "execution_count": 188
        }
      ]
    },
    {
      "cell_type": "code",
      "source": [
        "data[data_dist[\"hotel_name_similarity_ratio\"]>-1.96]"
      ],
      "metadata": {
        "colab": {
          "base_uri": "https://localhost:8080/",
          "height": 721
        },
        "id": "h8W_vtzFoRY0",
        "outputId": "bdadbb36-a66d-4681-f480-5ba747e0ff61"
      },
      "execution_count": 215,
      "outputs": [
        {
          "output_type": "execute_result",
          "data": {
            "text/plain": [
              "                                 c1.key                    c1.hotel_name  \\\n",
              "15     801BB2C9CD324535FA369F073B7C742E       Comfort Suites DFW Airport   \n",
              "18     77A7D83B81F1EE68A4F3E572F5424634                Hotel Maya Deluxe   \n",
              "120    6B029080375B069F45049F8AD027662E  Jinjiang Inn Beijing Wangfujing   \n",
              "135    DB5D05255FC54612A128D295208455A1                       Villa Tiah   \n",
              "266    773EC92783AF52CB0B983C8DB4AF6085   Best Western Bastrop Pines Inn   \n",
              "...                                 ...                              ...   \n",
              "99696  BC620E3E3946F72C414709EE056766D2                  Kingsland Hotel   \n",
              "99698  5E4EE557D601D303B902447CD363165D                       MARO Hotel   \n",
              "99710  3B5C0685B7BA73A4CFCBFB6A58E0705C           Legenda Boutique Hotel   \n",
              "99800  F64D8FCDC83C5EEA30B8E0542541F7CF                       Lavy Hotel   \n",
              "99910  FF7A9F0BB61DAAD65C6C60A2D2B38A14                  Tongju Homestay   \n",
              "\n",
              "       c1.city_name country_code  \\\n",
              "15      Irving (TX)           US   \n",
              "18        Hyderabad           IN   \n",
              "120         Beijing           CN   \n",
              "135            Bali           ID   \n",
              "266    Bastrop (TX)           US   \n",
              "...             ...          ...   \n",
              "99696        London           GB   \n",
              "99698         Hanoi           VN   \n",
              "99710   Johor Bahru           MY   \n",
              "99800         Dalat           VN   \n",
              "99910       Hualien           TW   \n",
              "\n",
              "                                        c1.hotel_address  c1.star_rating  \\\n",
              "15                           4700 W. John Carpenter Fwy.             3.0   \n",
              "18                  61/A, M.G.RoadRanigunj,Secunderabad.             1.0   \n",
              "120             Dengshikou Street 75, Dongcheng District             2.0   \n",
              "135                      Jalan Kubu Anyar I No. 27, Kuta             3.0   \n",
              "266                       107 Hunters Crossing Boulevard             3.0   \n",
              "...                                                  ...             ...   \n",
              "99696                                   Kingsbury Circle             3.0   \n",
              "99698                                          64 Cau Go             3.0   \n",
              "99710  No 7 & 9, Jalan Bestari 8/2, Taman Nusa Bestar...             2.0   \n",
              "99800                                  2B Lu Gia, Ward 9             3.0   \n",
              "99910                                       No.2, Minyou             2.5   \n",
              "\n",
              "      c1.postal_code                            c2.key  \\\n",
              "15             75063  A0F9BC759FBE0CBC3FB2D046309EA67F   \n",
              "18            500003  29D6E065185BEA2FA50493411A438443   \n",
              "120              NaN  C3A1BCFEC0BA1E078163BE653BFDF2B9   \n",
              "135            80361  343DA985230DC487656C5972462B08F8   \n",
              "266            78602  C2614D5779D37454FE6F0251FA796DB7   \n",
              "...              ...                               ...   \n",
              "99696        NW9 9RR  1ED2D0B7F797B6205B25A9CC09146BAA   \n",
              "99698         100000  04EDA7DF46FA6F5F3F5C65D1B38F6E8E   \n",
              "99710          79150  386CAC07A84CE7A75D7C8D551FD8AD5E   \n",
              "99800            NaN  21B73232797DFF519D384C251EB70618   \n",
              "99910          97251  1E0FAAE6FC025BA8148B7861E502B188   \n",
              "\n",
              "                                c2.hotel_name      c2.city_name  \\\n",
              "15           Comfort Suites Airport Nashville         Nashville   \n",
              "18                            Hotel Barbareek          Shillong   \n",
              "120      Jinjiang Inn Binzhou Huanghesan Road           Binzhou   \n",
              "135                             Villa Charlie         Kerobokan   \n",
              "266    Best Western Plus Cushing Inn & Suites           Cushing   \n",
              "...                                       ...               ...   \n",
              "99696                      Barking Park Hotel           Barking   \n",
              "99698                           Romance Hotel  Ho Chi Minh City   \n",
              "99710                      Ipoh Boutique Home              Ipoh   \n",
              "99800                       Blue Heaven Hotel         Nha Trang   \n",
              "99910                        Tong Ju Homestay            Xiulin   \n",
              "\n",
              "                                        c2.hotel_address  c2.star_rating  \\\n",
              "15                                    2521 Elm Hill Pike             2.0   \n",
              "18                           Lewduh, Mawlonghat, Anjalee             2.0   \n",
              "120           No. 498 Huanghesan Road, Binzhou, Shandong             3.0   \n",
              "135                                      Jl. Merta Agung             4.0   \n",
              "266                                 508 East Main Street             0.0   \n",
              "...                                                  ...             ...   \n",
              "99696                                56-60 Tanner Street             0.0   \n",
              "99698  67-69 Road No.5, Pham Hung, Binh Hung, Binh Chanh             1.0   \n",
              "99710           20, Lebuh Tasek Timur 2, Kampung Bercham             0.0   \n",
              "99800                           43 - 44 Nguyen Tat Thanh             2.0   \n",
              "99910                                      No. 2, Minyou             0.0   \n",
              "\n",
              "      c2.postal_code  hotel_name_similarity_ratio  city_name_similarity_ratio  \\\n",
              "15             37214                     0.758621                    0.200000   \n",
              "18            793002                     0.625000                    0.000000   \n",
              "120           256600                     0.626866                    0.428571   \n",
              "135            80361                     0.608696                    0.153846   \n",
              "266            74023                     0.617647                    0.105263   \n",
              "...              ...                          ...                         ...   \n",
              "99696       IG11 8QF                     0.606061                    0.153846   \n",
              "99698            NaN                     0.608696                    0.285714   \n",
              "99710          31400                     0.650000                    0.266667   \n",
              "99800            NaN                     0.592593                    0.285714   \n",
              "99910          97251                     0.903226                    0.615385   \n",
              "\n",
              "       hotel_address_similarity_ratio  star_rating_similarity_ratio  \\\n",
              "15                           0.177778                      0.666667   \n",
              "18                           0.285714                      0.666667   \n",
              "120                          0.268293                      0.666667   \n",
              "135                          0.217391                      0.666667   \n",
              "266                          0.320000                      0.666667   \n",
              "...                               ...                           ...   \n",
              "99696                        0.285714                      0.666667   \n",
              "99698                        0.137931                      0.666667   \n",
              "99710                        0.226804                      0.666667   \n",
              "99800                        0.292683                      0.666667   \n",
              "99910                        0.960000                      0.333333   \n",
              "\n",
              "       postal_code_similarity_ratio  \n",
              "15                         0.200000  \n",
              "18                         0.333333  \n",
              "120                        0.000000  \n",
              "135                        1.000000  \n",
              "266                        0.600000  \n",
              "...                             ...  \n",
              "99696                      0.133333  \n",
              "99698                      0.000000  \n",
              "99710                      0.400000  \n",
              "99800                      1.000000  \n",
              "99910                      1.000000  \n",
              "\n",
              "[1929 rows x 18 columns]"
            ],
            "text/html": [
              "\n",
              "  <div id=\"df-78730096-60ae-492f-a5df-7b90bf9ef11d\">\n",
              "    <div class=\"colab-df-container\">\n",
              "      <div>\n",
              "<style scoped>\n",
              "    .dataframe tbody tr th:only-of-type {\n",
              "        vertical-align: middle;\n",
              "    }\n",
              "\n",
              "    .dataframe tbody tr th {\n",
              "        vertical-align: top;\n",
              "    }\n",
              "\n",
              "    .dataframe thead th {\n",
              "        text-align: right;\n",
              "    }\n",
              "</style>\n",
              "<table border=\"1\" class=\"dataframe\">\n",
              "  <thead>\n",
              "    <tr style=\"text-align: right;\">\n",
              "      <th></th>\n",
              "      <th>c1.key</th>\n",
              "      <th>c1.hotel_name</th>\n",
              "      <th>c1.city_name</th>\n",
              "      <th>country_code</th>\n",
              "      <th>c1.hotel_address</th>\n",
              "      <th>c1.star_rating</th>\n",
              "      <th>c1.postal_code</th>\n",
              "      <th>c2.key</th>\n",
              "      <th>c2.hotel_name</th>\n",
              "      <th>c2.city_name</th>\n",
              "      <th>c2.hotel_address</th>\n",
              "      <th>c2.star_rating</th>\n",
              "      <th>c2.postal_code</th>\n",
              "      <th>hotel_name_similarity_ratio</th>\n",
              "      <th>city_name_similarity_ratio</th>\n",
              "      <th>hotel_address_similarity_ratio</th>\n",
              "      <th>star_rating_similarity_ratio</th>\n",
              "      <th>postal_code_similarity_ratio</th>\n",
              "    </tr>\n",
              "  </thead>\n",
              "  <tbody>\n",
              "    <tr>\n",
              "      <th>15</th>\n",
              "      <td>801BB2C9CD324535FA369F073B7C742E</td>\n",
              "      <td>Comfort Suites DFW Airport</td>\n",
              "      <td>Irving (TX)</td>\n",
              "      <td>US</td>\n",
              "      <td>4700 W. John Carpenter Fwy.</td>\n",
              "      <td>3.0</td>\n",
              "      <td>75063</td>\n",
              "      <td>A0F9BC759FBE0CBC3FB2D046309EA67F</td>\n",
              "      <td>Comfort Suites Airport Nashville</td>\n",
              "      <td>Nashville</td>\n",
              "      <td>2521 Elm Hill Pike</td>\n",
              "      <td>2.0</td>\n",
              "      <td>37214</td>\n",
              "      <td>0.758621</td>\n",
              "      <td>0.200000</td>\n",
              "      <td>0.177778</td>\n",
              "      <td>0.666667</td>\n",
              "      <td>0.200000</td>\n",
              "    </tr>\n",
              "    <tr>\n",
              "      <th>18</th>\n",
              "      <td>77A7D83B81F1EE68A4F3E572F5424634</td>\n",
              "      <td>Hotel Maya Deluxe</td>\n",
              "      <td>Hyderabad</td>\n",
              "      <td>IN</td>\n",
              "      <td>61/A, M.G.RoadRanigunj,Secunderabad.</td>\n",
              "      <td>1.0</td>\n",
              "      <td>500003</td>\n",
              "      <td>29D6E065185BEA2FA50493411A438443</td>\n",
              "      <td>Hotel Barbareek</td>\n",
              "      <td>Shillong</td>\n",
              "      <td>Lewduh, Mawlonghat, Anjalee</td>\n",
              "      <td>2.0</td>\n",
              "      <td>793002</td>\n",
              "      <td>0.625000</td>\n",
              "      <td>0.000000</td>\n",
              "      <td>0.285714</td>\n",
              "      <td>0.666667</td>\n",
              "      <td>0.333333</td>\n",
              "    </tr>\n",
              "    <tr>\n",
              "      <th>120</th>\n",
              "      <td>6B029080375B069F45049F8AD027662E</td>\n",
              "      <td>Jinjiang Inn Beijing Wangfujing</td>\n",
              "      <td>Beijing</td>\n",
              "      <td>CN</td>\n",
              "      <td>Dengshikou Street 75, Dongcheng District</td>\n",
              "      <td>2.0</td>\n",
              "      <td>NaN</td>\n",
              "      <td>C3A1BCFEC0BA1E078163BE653BFDF2B9</td>\n",
              "      <td>Jinjiang Inn Binzhou Huanghesan Road</td>\n",
              "      <td>Binzhou</td>\n",
              "      <td>No. 498 Huanghesan Road, Binzhou, Shandong</td>\n",
              "      <td>3.0</td>\n",
              "      <td>256600</td>\n",
              "      <td>0.626866</td>\n",
              "      <td>0.428571</td>\n",
              "      <td>0.268293</td>\n",
              "      <td>0.666667</td>\n",
              "      <td>0.000000</td>\n",
              "    </tr>\n",
              "    <tr>\n",
              "      <th>135</th>\n",
              "      <td>DB5D05255FC54612A128D295208455A1</td>\n",
              "      <td>Villa Tiah</td>\n",
              "      <td>Bali</td>\n",
              "      <td>ID</td>\n",
              "      <td>Jalan Kubu Anyar I No. 27, Kuta</td>\n",
              "      <td>3.0</td>\n",
              "      <td>80361</td>\n",
              "      <td>343DA985230DC487656C5972462B08F8</td>\n",
              "      <td>Villa Charlie</td>\n",
              "      <td>Kerobokan</td>\n",
              "      <td>Jl. Merta Agung</td>\n",
              "      <td>4.0</td>\n",
              "      <td>80361</td>\n",
              "      <td>0.608696</td>\n",
              "      <td>0.153846</td>\n",
              "      <td>0.217391</td>\n",
              "      <td>0.666667</td>\n",
              "      <td>1.000000</td>\n",
              "    </tr>\n",
              "    <tr>\n",
              "      <th>266</th>\n",
              "      <td>773EC92783AF52CB0B983C8DB4AF6085</td>\n",
              "      <td>Best Western Bastrop Pines Inn</td>\n",
              "      <td>Bastrop (TX)</td>\n",
              "      <td>US</td>\n",
              "      <td>107 Hunters Crossing Boulevard</td>\n",
              "      <td>3.0</td>\n",
              "      <td>78602</td>\n",
              "      <td>C2614D5779D37454FE6F0251FA796DB7</td>\n",
              "      <td>Best Western Plus Cushing Inn &amp; Suites</td>\n",
              "      <td>Cushing</td>\n",
              "      <td>508 East Main Street</td>\n",
              "      <td>0.0</td>\n",
              "      <td>74023</td>\n",
              "      <td>0.617647</td>\n",
              "      <td>0.105263</td>\n",
              "      <td>0.320000</td>\n",
              "      <td>0.666667</td>\n",
              "      <td>0.600000</td>\n",
              "    </tr>\n",
              "    <tr>\n",
              "      <th>...</th>\n",
              "      <td>...</td>\n",
              "      <td>...</td>\n",
              "      <td>...</td>\n",
              "      <td>...</td>\n",
              "      <td>...</td>\n",
              "      <td>...</td>\n",
              "      <td>...</td>\n",
              "      <td>...</td>\n",
              "      <td>...</td>\n",
              "      <td>...</td>\n",
              "      <td>...</td>\n",
              "      <td>...</td>\n",
              "      <td>...</td>\n",
              "      <td>...</td>\n",
              "      <td>...</td>\n",
              "      <td>...</td>\n",
              "      <td>...</td>\n",
              "      <td>...</td>\n",
              "    </tr>\n",
              "    <tr>\n",
              "      <th>99696</th>\n",
              "      <td>BC620E3E3946F72C414709EE056766D2</td>\n",
              "      <td>Kingsland Hotel</td>\n",
              "      <td>London</td>\n",
              "      <td>GB</td>\n",
              "      <td>Kingsbury Circle</td>\n",
              "      <td>3.0</td>\n",
              "      <td>NW9 9RR</td>\n",
              "      <td>1ED2D0B7F797B6205B25A9CC09146BAA</td>\n",
              "      <td>Barking Park Hotel</td>\n",
              "      <td>Barking</td>\n",
              "      <td>56-60 Tanner Street</td>\n",
              "      <td>0.0</td>\n",
              "      <td>IG11 8QF</td>\n",
              "      <td>0.606061</td>\n",
              "      <td>0.153846</td>\n",
              "      <td>0.285714</td>\n",
              "      <td>0.666667</td>\n",
              "      <td>0.133333</td>\n",
              "    </tr>\n",
              "    <tr>\n",
              "      <th>99698</th>\n",
              "      <td>5E4EE557D601D303B902447CD363165D</td>\n",
              "      <td>MARO Hotel</td>\n",
              "      <td>Hanoi</td>\n",
              "      <td>VN</td>\n",
              "      <td>64 Cau Go</td>\n",
              "      <td>3.0</td>\n",
              "      <td>100000</td>\n",
              "      <td>04EDA7DF46FA6F5F3F5C65D1B38F6E8E</td>\n",
              "      <td>Romance Hotel</td>\n",
              "      <td>Ho Chi Minh City</td>\n",
              "      <td>67-69 Road No.5, Pham Hung, Binh Hung, Binh Chanh</td>\n",
              "      <td>1.0</td>\n",
              "      <td>NaN</td>\n",
              "      <td>0.608696</td>\n",
              "      <td>0.285714</td>\n",
              "      <td>0.137931</td>\n",
              "      <td>0.666667</td>\n",
              "      <td>0.000000</td>\n",
              "    </tr>\n",
              "    <tr>\n",
              "      <th>99710</th>\n",
              "      <td>3B5C0685B7BA73A4CFCBFB6A58E0705C</td>\n",
              "      <td>Legenda Boutique Hotel</td>\n",
              "      <td>Johor Bahru</td>\n",
              "      <td>MY</td>\n",
              "      <td>No 7 &amp; 9, Jalan Bestari 8/2, Taman Nusa Bestar...</td>\n",
              "      <td>2.0</td>\n",
              "      <td>79150</td>\n",
              "      <td>386CAC07A84CE7A75D7C8D551FD8AD5E</td>\n",
              "      <td>Ipoh Boutique Home</td>\n",
              "      <td>Ipoh</td>\n",
              "      <td>20, Lebuh Tasek Timur 2, Kampung Bercham</td>\n",
              "      <td>0.0</td>\n",
              "      <td>31400</td>\n",
              "      <td>0.650000</td>\n",
              "      <td>0.266667</td>\n",
              "      <td>0.226804</td>\n",
              "      <td>0.666667</td>\n",
              "      <td>0.400000</td>\n",
              "    </tr>\n",
              "    <tr>\n",
              "      <th>99800</th>\n",
              "      <td>F64D8FCDC83C5EEA30B8E0542541F7CF</td>\n",
              "      <td>Lavy Hotel</td>\n",
              "      <td>Dalat</td>\n",
              "      <td>VN</td>\n",
              "      <td>2B Lu Gia, Ward 9</td>\n",
              "      <td>3.0</td>\n",
              "      <td>NaN</td>\n",
              "      <td>21B73232797DFF519D384C251EB70618</td>\n",
              "      <td>Blue Heaven Hotel</td>\n",
              "      <td>Nha Trang</td>\n",
              "      <td>43 - 44 Nguyen Tat Thanh</td>\n",
              "      <td>2.0</td>\n",
              "      <td>NaN</td>\n",
              "      <td>0.592593</td>\n",
              "      <td>0.285714</td>\n",
              "      <td>0.292683</td>\n",
              "      <td>0.666667</td>\n",
              "      <td>1.000000</td>\n",
              "    </tr>\n",
              "    <tr>\n",
              "      <th>99910</th>\n",
              "      <td>FF7A9F0BB61DAAD65C6C60A2D2B38A14</td>\n",
              "      <td>Tongju Homestay</td>\n",
              "      <td>Hualien</td>\n",
              "      <td>TW</td>\n",
              "      <td>No.2, Minyou</td>\n",
              "      <td>2.5</td>\n",
              "      <td>97251</td>\n",
              "      <td>1E0FAAE6FC025BA8148B7861E502B188</td>\n",
              "      <td>Tong Ju Homestay</td>\n",
              "      <td>Xiulin</td>\n",
              "      <td>No. 2, Minyou</td>\n",
              "      <td>0.0</td>\n",
              "      <td>97251</td>\n",
              "      <td>0.903226</td>\n",
              "      <td>0.615385</td>\n",
              "      <td>0.960000</td>\n",
              "      <td>0.333333</td>\n",
              "      <td>1.000000</td>\n",
              "    </tr>\n",
              "  </tbody>\n",
              "</table>\n",
              "<p>1929 rows × 18 columns</p>\n",
              "</div>\n",
              "      <button class=\"colab-df-convert\" onclick=\"convertToInteractive('df-78730096-60ae-492f-a5df-7b90bf9ef11d')\"\n",
              "              title=\"Convert this dataframe to an interactive table.\"\n",
              "              style=\"display:none;\">\n",
              "        \n",
              "  <svg xmlns=\"http://www.w3.org/2000/svg\" height=\"24px\"viewBox=\"0 0 24 24\"\n",
              "       width=\"24px\">\n",
              "    <path d=\"M0 0h24v24H0V0z\" fill=\"none\"/>\n",
              "    <path d=\"M18.56 5.44l.94 2.06.94-2.06 2.06-.94-2.06-.94-.94-2.06-.94 2.06-2.06.94zm-11 1L8.5 8.5l.94-2.06 2.06-.94-2.06-.94L8.5 2.5l-.94 2.06-2.06.94zm10 10l.94 2.06.94-2.06 2.06-.94-2.06-.94-.94-2.06-.94 2.06-2.06.94z\"/><path d=\"M17.41 7.96l-1.37-1.37c-.4-.4-.92-.59-1.43-.59-.52 0-1.04.2-1.43.59L10.3 9.45l-7.72 7.72c-.78.78-.78 2.05 0 2.83L4 21.41c.39.39.9.59 1.41.59.51 0 1.02-.2 1.41-.59l7.78-7.78 2.81-2.81c.8-.78.8-2.07 0-2.86zM5.41 20L4 18.59l7.72-7.72 1.47 1.35L5.41 20z\"/>\n",
              "  </svg>\n",
              "      </button>\n",
              "      \n",
              "  <style>\n",
              "    .colab-df-container {\n",
              "      display:flex;\n",
              "      flex-wrap:wrap;\n",
              "      gap: 12px;\n",
              "    }\n",
              "\n",
              "    .colab-df-convert {\n",
              "      background-color: #E8F0FE;\n",
              "      border: none;\n",
              "      border-radius: 50%;\n",
              "      cursor: pointer;\n",
              "      display: none;\n",
              "      fill: #1967D2;\n",
              "      height: 32px;\n",
              "      padding: 0 0 0 0;\n",
              "      width: 32px;\n",
              "    }\n",
              "\n",
              "    .colab-df-convert:hover {\n",
              "      background-color: #E2EBFA;\n",
              "      box-shadow: 0px 1px 2px rgba(60, 64, 67, 0.3), 0px 1px 3px 1px rgba(60, 64, 67, 0.15);\n",
              "      fill: #174EA6;\n",
              "    }\n",
              "\n",
              "    [theme=dark] .colab-df-convert {\n",
              "      background-color: #3B4455;\n",
              "      fill: #D2E3FC;\n",
              "    }\n",
              "\n",
              "    [theme=dark] .colab-df-convert:hover {\n",
              "      background-color: #434B5C;\n",
              "      box-shadow: 0px 1px 3px 1px rgba(0, 0, 0, 0.15);\n",
              "      filter: drop-shadow(0px 1px 2px rgba(0, 0, 0, 0.3));\n",
              "      fill: #FFFFFF;\n",
              "    }\n",
              "  </style>\n",
              "\n",
              "      <script>\n",
              "        const buttonEl =\n",
              "          document.querySelector('#df-78730096-60ae-492f-a5df-7b90bf9ef11d button.colab-df-convert');\n",
              "        buttonEl.style.display =\n",
              "          google.colab.kernel.accessAllowed ? 'block' : 'none';\n",
              "\n",
              "        async function convertToInteractive(key) {\n",
              "          const element = document.querySelector('#df-78730096-60ae-492f-a5df-7b90bf9ef11d');\n",
              "          const dataTable =\n",
              "            await google.colab.kernel.invokeFunction('convertToInteractive',\n",
              "                                                     [key], {});\n",
              "          if (!dataTable) return;\n",
              "\n",
              "          const docLinkHtml = 'Like what you see? Visit the ' +\n",
              "            '<a target=\"_blank\" href=https://colab.research.google.com/notebooks/data_table.ipynb>data table notebook</a>'\n",
              "            + ' to learn more about interactive tables.';\n",
              "          element.innerHTML = '';\n",
              "          dataTable['output_type'] = 'display_data';\n",
              "          await google.colab.output.renderOutput(dataTable, element);\n",
              "          const docLink = document.createElement('div');\n",
              "          docLink.innerHTML = docLinkHtml;\n",
              "          element.appendChild(docLink);\n",
              "        }\n",
              "      </script>\n",
              "    </div>\n",
              "  </div>\n",
              "  "
            ]
          },
          "metadata": {},
          "execution_count": 215
        }
      ]
    },
    {
      "cell_type": "code",
      "source": [],
      "metadata": {
        "id": "s-jmKr1nm0gT"
      },
      "execution_count": null,
      "outputs": []
    }
  ]
}